{
 "cells": [
  {
   "cell_type": "markdown",
   "metadata": {},
   "source": [
    "W207: Final Project\n",
    "===========\n",
    "\n",
    "**(Step 3a: Linear Models)**\n",
    "\n",
    "\n",
    "Our team (Danish Iqbal, KC Tobin, Jason Vantomme) is working through the Kaggle \"House Prices: Advanced Regression Techniques\" competition @ https://www.kaggle.com/c/house-prices-advanced-regression-techniques.\n",
    "\n",
    "\n",
    "**Intro for your notebook here.**"
   ]
  },
  {
   "cell_type": "code",
   "execution_count": 12,
   "metadata": {},
   "outputs": [],
   "source": [
    "# ENVIRONMENT SETUP\n",
    "\n",
    "# This tells matplotlib not to try opening a new window for each plot.\n",
    "%matplotlib inline\n",
    "\n",
    "import datetime as dt\n",
    "import pandas as pd\n",
    "import numpy as np\n",
    "import sklearn\n",
    "from sklearn.linear_model import LinearRegression, Lasso, BayesianRidge, Ridge\n",
    "from sklearn import preprocessing, metrics\n",
    "from sklearn.metrics import mean_squared_error\n",
    "from sklearn.model_selection import train_test_split\n",
    "import matplotlib.pyplot as plt\n",
    "\n",
    "import warnings\n",
    "warnings.filterwarnings('ignore')\n",
    "\n",
    "pd.set_option('display.precision',6)\n",
    "pd.set_option('display.max_columns',None) \n",
    "pd.set_option('display.max_rows',None) \n",
    "pd.set_option('display.max_colwidth',1000)"
   ]
  },
  {
   "cell_type": "code",
   "execution_count": 13,
   "metadata": {},
   "outputs": [
    {
     "name": "stdout",
     "output_type": "stream",
     "text": [
      "TRAIN DATA:  (730, 358)\n",
      "TRAIN LABELS:  (730,)\n",
      "\n",
      "DEV DATA:  (730, 358)\n",
      "DEV LABELS:  (730,)\n",
      "\n",
      "TEST DATA:  (1459, 358)\n"
     ]
    }
   ],
   "source": [
    "## Load Feature Engineered Data\n",
    "fe_train = pd.read_csv('data/train_fe.csv')\n",
    "fe_train_labels = fe_train[\"SalePrice\"].copy()\n",
    "fe_train = fe_train.drop([\"SalePrice\"], axis=1)\n",
    "\n",
    "\n",
    "train, dev, train_labels, dev_labels = train_test_split(fe_train,fe_train_labels,train_size=.5,random_state=207)\n",
    "\n",
    "train_labels = np.log(train_labels)\n",
    "dev_labels = np.log(dev_labels)\n",
    "\n",
    "print \"TRAIN DATA: \", train.shape\n",
    "print \"TRAIN LABELS: \", train_labels.shape\n",
    "print            \n",
    "print \"DEV DATA: \", dev.shape\n",
    "print \"DEV LABELS: \", dev_labels.shape\n",
    "print\n",
    "\n",
    "test = pd.read_csv('data/test_fe.csv')\n",
    "print \"TEST DATA: \", test.shape"
   ]
  },
  {
   "cell_type": "code",
   "execution_count": 14,
   "metadata": {},
   "outputs": [
    {
     "name": "stdout",
     "output_type": "stream",
     "text": [
      "R^2 : 0.742913317456\n",
      "DEV RMSE: -0.198961466309\n"
     ]
    }
   ],
   "source": [
    "###Linear Regression\n",
    "\n",
    "clf = LinearRegression()\n",
    "clf = clf.fit(train, train_labels)\n",
    "print(\"R^2 : \" + str(clf.score(dev, dev_labels)))\n",
    "\n",
    "dev_predict = clf.predict(dev)\n",
    "rmse = -np.sqrt(mean_squared_error(dev_predict, dev_labels))\n",
    "print(\"DEV RMSE: \" + str(rmse))\n",
    "Linear_dev_predict = dev_predict\n",
    "\n",
    "Linear_test_predict = clf.predict(test)"
   ]
  },
  {
   "cell_type": "code",
   "execution_count": 15,
   "metadata": {
    "collapsed": true
   },
   "outputs": [],
   "source": [
    "##http://scikit-learn.org/stable/auto_examples/linear_model/plot_bayesian_ridge.html#sphx-glr-auto-examples-linear-model-plot-bayesian-ridge-py\n",
    "    "
   ]
  },
  {
   "cell_type": "code",
   "execution_count": 16,
   "metadata": {},
   "outputs": [
    {
     "name": "stdout",
     "output_type": "stream",
     "text": [
      "R^2 : 0.814726058043\n",
      "DEV RMSE: -0.16890260733\n"
     ]
    }
   ],
   "source": [
    "### Ridge Regression\n",
    "\n",
    "clf = Ridge(alpha=10)\n",
    "clf.fit(train, train_labels)\n",
    "print(\"R^2 : \" + str(clf.score(dev, dev_labels)))\n",
    "\n",
    "dev_predict = clf.predict(dev)\n",
    "rmse = -np.sqrt(mean_squared_error(dev_predict, dev_labels))\n",
    "print(\"DEV RMSE: \" + str(rmse))\n",
    "Ridge_dev_predict = dev_predict\n",
    "\n",
    "Ridge_test_predict = clf.predict(test)"
   ]
  },
  {
   "cell_type": "code",
   "execution_count": 17,
   "metadata": {},
   "outputs": [
    {
     "name": "stdout",
     "output_type": "stream",
     "text": [
      "R^2 : 0.816936233761\n",
      "DEV RMSE: -0.167892145641\n"
     ]
    }
   ],
   "source": [
    "### Lasso Regression\n",
    "\n",
    "clf = Lasso(alpha=0.001)\n",
    "clf.fit(train, train_labels)\n",
    "print(\"R^2 : \" + str(clf.score(dev, dev_labels)))\n",
    "\n",
    "dev_predict = clf.predict(dev)\n",
    "rmse = -np.sqrt(mean_squared_error(dev_predict, dev_labels))\n",
    "print(\"DEV RMSE: \" + str(rmse))\n",
    "Lasso_dev_predict = dev_predict\n",
    "\n",
    "Lasso_test_predict = clf.predict(test)"
   ]
  },
  {
   "cell_type": "code",
   "execution_count": 24,
   "metadata": {},
   "outputs": [
    {
     "name": "stdout",
     "output_type": "stream",
     "text": [
      "OUTPUTTING TRAIN DATA: \n",
      "SIZE:  (730, 4)\n",
      "COLS:  Index([u'Actual', u'Lasso_predict', u'Linear_predict', u'Ridge_predict'], dtype='object')\n",
      "\n",
      "OUTPUTTING TEST DATA:  (1459, 3) Index([u'Lasso_predict', u'Linear_predict', u'Ridge_predict'], dtype='object')\n",
      "SIZE:  (1459, 3)\n",
      "COLS:  Index([u'Lasso_predict', u'Linear_predict', u'Ridge_predict'], dtype='object')\n",
      "\n"
     ]
    }
   ],
   "source": [
    "dev_output_cols= {'Lasso_predict':Lasso_dev_predict, \n",
    "              'Ridge_predict':Ridge_dev_predict, \n",
    "              'Linear_predict':Linear_dev_predict, \n",
    "              'Actual':dev_labels}\n",
    "linear_dev_DF = pd.DataFrame(data=dev_output_cols)\n",
    "print \"OUTPUTTING TRAIN DATA: \"\n",
    "print \"SIZE: \", linear_dev_DF.shape\n",
    "print \"COLS: \", linear_dev_DF.columns\n",
    "print            \n",
    "linear_dev_DF.to_csv('data/linear_out_dev.csv')\n",
    "\n",
    "test_output_cols= {'Lasso_predict':Lasso_test_predict, \n",
    "              'Ridge_predict':Ridge_test_predict, \n",
    "              'Linear_predict':Linear_test_predict}\n",
    "linear_test_DF = pd.DataFrame(data=test_output_cols)\n",
    "print \"OUTPUTTING TEST DATA: \", linear_test_DF.shape, linear_test_DF.columns\n",
    "print \"SIZE: \", linear_test_DF.shape\n",
    "print \"COLS: \", linear_test_DF.columns\n",
    "print            \n",
    "linear_test_DF.to_csv('data/linear_out_test.csv')"
   ]
  },
  {
   "cell_type": "code",
   "execution_count": 19,
   "metadata": {
    "collapsed": true
   },
   "outputs": [],
   "source": [
    "import numpy as np\n",
    "import pandas\n",
    "import matplotlib.pyplot as plt\n",
    "import statsmodels.api as sm\n",
    "from statsmodels.formula.api import ols\n",
    "\n",
    "#fig, ax = plt.subplots(figsize=(12, 8))\n",
    "#fig = sm.graphics.plot_fit(reg, \"SalePrice\", ax=ax)"
   ]
  },
  {
   "cell_type": "code",
   "execution_count": null,
   "metadata": {
    "collapsed": true
   },
   "outputs": [],
   "source": []
  }
 ],
 "metadata": {
  "anaconda-cloud": {},
  "kernelspec": {
   "display_name": "Python [default]",
   "language": "python",
   "name": "python2"
  },
  "language_info": {
   "codemirror_mode": {
    "name": "ipython",
    "version": 2
   },
   "file_extension": ".py",
   "mimetype": "text/x-python",
   "name": "python",
   "nbconvert_exporter": "python",
   "pygments_lexer": "ipython2",
   "version": "2.7.12"
  }
 },
 "nbformat": 4,
 "nbformat_minor": 1
}
