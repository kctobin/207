{
 "cells": [
  {
   "cell_type": "markdown",
   "metadata": {},
   "source": [
    "W207: Final Project\n",
    "===========\n",
    "\n",
    "**(Step 3a: Linear Models)**\n",
    "\n",
    "\n",
    "Our team (Danish Iqbal, KC Tobin, Jason Vantomme) is working through the Kaggle \"House Prices: Advanced Regression Techniques\" competition @ https://www.kaggle.com/c/house-prices-advanced-regression-techniques.\n",
    "\n",
    "\n",
    "**Intro for your notebook here.**"
   ]
  },
  {
   "cell_type": "code",
   "execution_count": 17,
   "metadata": {
    "collapsed": false
   },
   "outputs": [],
   "source": [
    "# ENVIRONMENT SETUP\n",
    "\n",
    "# This tells matplotlib not to try opening a new window for each plot.\n",
    "%matplotlib inline\n",
    "\n",
    "import datetime as dt\n",
    "import pandas as pd\n",
    "import numpy as np\n",
    "import sklearn\n",
    "from sklearn.linear_model import LinearRegression, Lasso, BayesianRidge, Ridge\n",
    "from sklearn import preprocessing\n",
    "from sklearn import metrics\n",
    "from sklearn.model_selection import train_test_split\n",
    "from sklearn.metrics import mean_squared_error\n",
    "import matplotlib.pyplot as plt\n",
    "\n",
    "import warnings\n",
    "warnings.filterwarnings('ignore')\n",
    "\n",
    "pd.set_option('display.precision',6)\n",
    "pd.set_option('display.max_columns',None) \n",
    "pd.set_option('display.max_rows',None) \n",
    "pd.set_option('display.max_colwidth',1000)"
   ]
  },
  {
   "cell_type": "code",
   "execution_count": 18,
   "metadata": {
    "collapsed": false
   },
   "outputs": [
    {
     "name": "stdout",
     "output_type": "stream",
     "text": [
      "TRAIN DATA:  (730, 357)\n",
      "TRAIN LABELS:  (730,)\n",
      "\n",
      "DEV DATA:  (730, 357)\n",
      "DEV LABELS:  (730,)\n"
     ]
    }
   ],
   "source": [
    "## Load Feature Engineered Data\n",
    "fe_train = pd.read_csv('data/train_fe.csv')\n",
    "fe_train_labels = fe_train[\"SalePrice\"].copy()\n",
    "fe_train = fe_train.drop([\"SalePrice\"], axis=1)\n",
    "\n",
    "train, dev, train_labels, dev_labels = train_test_split(fe_train,fe_train_labels,train_size=.5,random_state=207)\n",
    "                    \n",
    "print \"TRAIN DATA: \", train.shape\n",
    "print \"TRAIN LABELS: \", train_labels.shape\n",
    "print            \n",
    "print \"DEV DATA: \", dev.shape\n",
    "print \"DEV LABELS: \", dev_labels.shape"
   ]
  },
  {
   "cell_type": "code",
   "execution_count": 19,
   "metadata": {
    "collapsed": false
   },
   "outputs": [
    {
     "name": "stdout",
     "output_type": "stream",
     "text": [
      "R^2 value: 0.70261294283\n",
      "-42836.3450701\n"
     ]
    }
   ],
   "source": [
    "###Linear Regression\n",
    "\n",
    "reg = LinearRegression()\n",
    "reg.fit(train, train_labels)\n",
    "print(\"R^2 value: \" + str(reg.score(dev, dev_labels)))\n",
    "\n",
    "predict = reg.predict(dev)\n",
    "rmse = -np.sqrt(mean_squared_error(predict, dev_labels))\n",
    "print rmse\n",
    "\n",
    "Linear_predict = predict"
   ]
  },
  {
   "cell_type": "code",
   "execution_count": 20,
   "metadata": {
    "collapsed": false
   },
   "outputs": [
    {
     "name": "stdout",
     "output_type": "stream",
     "text": [
      "0.736024540807\n",
      "-40358.3268976\n"
     ]
    }
   ],
   "source": [
    "### Ridge Linear Regression\n",
    "\n",
    "clf = Ridge(alpha=1.0)\n",
    "clf.fit(train, train_labels)\n",
    "print clf.score(dev, dev_labels)\n",
    "\n",
    "predict = clf.predict(dev)\n",
    "rmse = -np.sqrt(mean_squared_error(predict, dev_labels))\n",
    "print rmse\n",
    "\n",
    "Ridge_predict = predict"
   ]
  },
  {
   "cell_type": "code",
   "execution_count": 21,
   "metadata": {
    "collapsed": false
   },
   "outputs": [
    {
     "name": "stdout",
     "output_type": "stream",
     "text": [
      "0.700501999018\n",
      "-42988.108935\n"
     ]
    }
   ],
   "source": [
    "### Lasso linear regression\n",
    "\n",
    "clf = Lasso(alpha=0.1)\n",
    "clf.fit(train, train_labels)\n",
    "print clf.score(dev, dev_labels)\n",
    "\n",
    "predict = clf.predict(dev)\n",
    "rmse = -np.sqrt(mean_squared_error(predict, dev_labels))\n",
    "print rmse\n",
    "\n",
    "Lasso_predict = predict"
   ]
  },
  {
   "cell_type": "code",
   "execution_count": 22,
   "metadata": {
    "collapsed": false
   },
   "outputs": [
    {
     "name": "stdout",
     "output_type": "stream",
     "text": [
      "0.700501999018\n",
      "-42988.108935\n"
     ]
    }
   ],
   "source": [
    "### Bayesian Ridge Regression\n",
    "\n",
    "reg = BayesianRidge()\n",
    "reg.fit(train, train_labels)\n",
    "print clf.score(dev, dev_labels)\n",
    "\n",
    "predict = clf.predict(dev)\n",
    "rmse = -np.sqrt(mean_squared_error(predict, dev_labels))\n",
    "print rmse\n",
    "\n",
    "BayesRidge_predict = predict\n"
   ]
  },
  {
   "cell_type": "code",
   "execution_count": 23,
   "metadata": {
    "collapsed": false
   },
   "outputs": [],
   "source": [
    "output_cols= {'BayesRidge_predict':BayesRidge_predict, 'Lasso_predict':Lasso_predict, \n",
    "              'Ridge_predict':Ridge_predict, 'Linear_predict':Linear_predict}\n",
    "linear_DF = pd.DataFrame(data=output_cols)\n",
    "\n",
    "linear_DF.to_csv('data/linear_out.csv')"
   ]
  },
  {
   "cell_type": "code",
   "execution_count": null,
   "metadata": {
    "collapsed": true
   },
   "outputs": [],
   "source": []
  }
 ],
 "metadata": {
  "anaconda-cloud": {},
  "kernelspec": {
   "display_name": "Python [default]",
   "language": "python",
   "name": "python2"
  },
  "language_info": {
   "codemirror_mode": {
    "name": "ipython",
    "version": 2
   },
   "file_extension": ".py",
   "mimetype": "text/x-python",
   "name": "python",
   "nbconvert_exporter": "python",
   "pygments_lexer": "ipython2",
   "version": "2.7.12"
  }
 },
 "nbformat": 4,
 "nbformat_minor": 1
}
