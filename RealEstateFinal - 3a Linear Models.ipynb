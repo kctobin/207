{
 "cells": [
  {
   "cell_type": "markdown",
   "metadata": {},
   "source": [
    "W207: Final Project\n",
    "===========\n",
    "\n",
    "**(Step 3a: Linear Models)**\n",
    "\n",
    "\n",
    "Our team (Danish Iqbal, KC Tobin, Jason Vantomme) is working through the Kaggle \"House Prices: Advanced Regression Techniques\" competition @ https://www.kaggle.com/c/house-prices-advanced-regression-techniques.\n",
    "\n",
    "\n",
    "**Intro for your notebook here.**"
   ]
  },
  {
   "cell_type": "code",
   "execution_count": 26,
   "metadata": {},
   "outputs": [],
   "source": [
    "# ENVIRONMENT SETUP\n",
    "\n",
    "# This tells matplotlib not to try opening a new window for each plot.\n",
    "%matplotlib inline\n",
    "\n",
    "import datetime as dt\n",
    "import pandas as pd\n",
    "import numpy as np\n",
    "import sklearn\n",
    "from sklearn.linear_model import LinearRegression, Lasso, BayesianRidge, Ridge\n",
    "from sklearn import preprocessing, metrics\n",
    "from sklearn.metrics import mean_squared_error\n",
    "from sklearn.model_selection import train_test_split\n",
    "import matplotlib.pyplot as plt\n",
    "\n",
    "import warnings\n",
    "warnings.filterwarnings('ignore')\n",
    "\n",
    "pd.set_option('display.precision',6)\n",
    "pd.set_option('display.max_columns',None) \n",
    "pd.set_option('display.max_rows',None) \n",
    "pd.set_option('display.max_colwidth',1000)"
   ]
  },
  {
   "cell_type": "code",
   "execution_count": 27,
   "metadata": {},
   "outputs": [
    {
     "name": "stdout",
     "output_type": "stream",
     "text": [
      "TRAIN DATA:  (730, 358)\n",
      "TRAIN LABELS:  (730,)\n",
      "\n",
      "DEV DATA:  (730, 358)\n",
      "DEV LABELS:  (730,)\n"
     ]
    }
   ],
   "source": [
    "## Load Feature Engineered Data\n",
    "fe_train = pd.read_csv('data/train_fe.csv')\n",
    "fe_train_labels = fe_train[\"SalePrice\"].copy()\n",
    "fe_train = fe_train.drop([\"SalePrice\"], axis=1)\n",
    "\n",
    "train, dev, train_labels, dev_labels = train_test_split(fe_train,fe_train_labels,train_size=.5,random_state=207)\n",
    "\n",
    "train_labels = np.log(train_labels)\n",
    "dev_labels = np.log(dev_labels)\n",
    "\n",
    "print \"TRAIN DATA: \", train.shape\n",
    "print \"TRAIN LABELS: \", train_labels.shape\n",
    "print            \n",
    "print \"DEV DATA: \", dev.shape\n",
    "print \"DEV LABELS: \", dev_labels.shape\n"
   ]
  },
  {
   "cell_type": "code",
   "execution_count": 28,
   "metadata": {},
   "outputs": [
    {
     "name": "stdout",
     "output_type": "stream",
     "text": [
      "R^2 : 0.742913317456\n",
      "RMSE: -0.198961466309\n"
     ]
    }
   ],
   "source": [
    "###Linear Regression\n",
    "\n",
    "clf = LinearRegression()\n",
    "clf = clf.fit(train, train_labels)\n",
    "print(\"R^2 : \" + str(clf.score(dev, dev_labels)))\n",
    "\n",
    "predict = clf.predict(dev)\n",
    "rmse = -np.sqrt(mean_squared_error(predict, dev_labels))\n",
    "print(\"RMSE: \" + str(rmse))\n",
    "\n",
    "Linear_predict = predict"
   ]
  },
  {
   "cell_type": "code",
   "execution_count": 29,
   "metadata": {},
   "outputs": [],
   "source": [
    "##http://scikit-learn.org/stable/auto_examples/linear_model/plot_bayesian_ridge.html#sphx-glr-auto-examples-linear-model-plot-bayesian-ridge-py\n",
    "    "
   ]
  },
  {
   "cell_type": "code",
   "execution_count": 30,
   "metadata": {},
   "outputs": [
    {
     "name": "stdout",
     "output_type": "stream",
     "text": [
      "R^2 : 0.814726058043\n",
      "RMSE: -0.16890260733\n"
     ]
    }
   ],
   "source": [
    "### Ridge Regression\n",
    "\n",
    "clf = Ridge(alpha=10)\n",
    "clf.fit(train, train_labels)\n",
    "print(\"R^2 : \" + str(clf.score(dev, dev_labels)))\n",
    "\n",
    "predict = clf.predict(dev)\n",
    "rmse = -np.sqrt(mean_squared_error(predict, dev_labels))\n",
    "print(\"RMSE: \" + str(rmse))\n",
    "\n",
    "Ridge_predict = predict"
   ]
  },
  {
   "cell_type": "code",
   "execution_count": 31,
   "metadata": {},
   "outputs": [
    {
     "name": "stdout",
     "output_type": "stream",
     "text": [
      "R^2 : 0.816936233761\n",
      "RMSE: -0.167892145641\n"
     ]
    }
   ],
   "source": [
    "### Lasso Regression\n",
    "\n",
    "clf = Lasso(alpha=0.001)\n",
    "clf.fit(train, train_labels)\n",
    "print(\"R^2 : \" + str(clf.score(dev, dev_labels)))\n",
    "\n",
    "predict = clf.predict(dev)\n",
    "rmse = -np.sqrt(mean_squared_error(predict, dev_labels))\n",
    "print(\"RMSE: \" + str(rmse))\n",
    "\n",
    "Lasso_predict = predict"
   ]
  },
  {
   "cell_type": "code",
   "execution_count": 32,
   "metadata": {
    "collapsed": true
   },
   "outputs": [],
   "source": [
    "output_cols= {'Lasso_predict':Lasso_predict, \n",
    "              'Ridge_predict':Ridge_predict, \n",
    "              'Linear_predict':Linear_predict, \n",
    "              'Actual':dev_labels}\n",
    "linear_DF = pd.DataFrame(data=output_cols)\n",
    "linear_DF.to_csv('data/linear_out.csv')"
   ]
  },
  {
   "cell_type": "code",
   "execution_count": 33,
   "metadata": {},
   "outputs": [],
   "source": [
    "import numpy as np\n",
    "import pandas\n",
    "import matplotlib.pyplot as plt\n",
    "import statsmodels.api as sm\n",
    "from statsmodels.formula.api import ols\n",
    "\n",
    "#fig, ax = plt.subplots(figsize=(12, 8))\n",
    "#fig = sm.graphics.plot_fit(reg, \"SalePrice\", ax=ax)"
   ]
  },
  {
   "cell_type": "code",
   "execution_count": null,
   "metadata": {
    "collapsed": true
   },
   "outputs": [],
   "source": []
  }
 ],
 "metadata": {
  "anaconda-cloud": {},
  "kernelspec": {
   "display_name": "Python [default]",
   "language": "python",
   "name": "python2"
  },
  "language_info": {
   "codemirror_mode": {
    "name": "ipython",
    "version": 2
   },
   "file_extension": ".py",
   "mimetype": "text/x-python",
   "name": "python",
   "nbconvert_exporter": "python",
   "pygments_lexer": "ipython2",
   "version": "2.7.12"
  }
 },
 "nbformat": 4,
 "nbformat_minor": 1
}
