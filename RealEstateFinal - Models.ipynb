{
 "cells": [
  {
   "cell_type": "code",
   "execution_count": 1,
   "metadata": {
    "collapsed": false
   },
   "outputs": [],
   "source": [
    "%matplotlib inline\n",
    "\n",
    "import datetime\n",
    "import pandas as pd\n",
    "import numpy as np\n",
    "import sklearn\n",
    "from sklearn.preprocessing import PolynomialFeatures as PF\n",
    "from sklearn.linear_model import LinearRegression, Ridge\n",
    "from sklearn.pipeline import Pipeline\n",
    "from sklearn import linear_model as lm\n",
    "from sklearn import preprocessing\n",
    "from sklearn import metrics\n",
    "import seaborn as sns\n",
    "from scipy.stats import norm\n",
    "from sklearn.preprocessing import StandardScaler\n",
    "from scipy import stats\n",
    "import warnings\n",
    "warnings.filterwarnings('ignore')\n",
    "import matplotlib.pyplot as plt"
   ]
  },
  {
   "cell_type": "code",
   "execution_count": 27,
   "metadata": {
    "collapsed": false
   },
   "outputs": [
    {
     "name": "stdout",
     "output_type": "stream",
     "text": [
      "(1460, 663)\n",
      "(1459, 814)\n"
     ]
    }
   ],
   "source": [
    "from sklearn.ensemble import RandomForestRegressor as RFR, ExtraTreesRegressor as ETR, GradientBoostingRegressor as GBR\n",
    "from sklearn.neighbors import KNeighborsRegressor as KNR\n",
    "from sklearn.tree import DecisionTreeRegressor as DTR\n",
    "from sklearn.svm import SVR\n",
    "from sklearn.gaussian_process import GaussianProcessRegressor as GPR\n",
    "from sklearn.model_selection import cross_val_score, GridSearchCV\n",
    "from sklearn.metrics import mean_squared_error\n",
    "import time\n",
    "\n",
    "train = pd.read_csv('data/train_fe.csv',delimiter=',',header=0)\n",
    "train_labels = train[\"SalePrice\"].copy()\n",
    "train = train.drop( [\"SalePrice\"], axis=1 )\n",
    "test = pd.read_csv('data/test_fe.csv',delimiter=',',header=0)\n",
    "\n",
    "def simple_rmse(model, X, Y):\n",
    "    y_pred = model.predict(X)\n",
    "    rmse = -np.sqrt(mean_squared_error(y_pred, Y))\n",
    "    return rmse\n",
    "\n",
    "def rmse_cv(model, X_train, y):\n",
    "    rmse= np.mean(np.sqrt(-cross_val_score(model, X_train, y, scoring=\"neg_mean_squared_error\", cv = 5)))\n",
    "    return(rmse)\n",
    "\n",
    "print train.shape\n",
    "print test.shape"
   ]
  },
  {
   "cell_type": "code",
   "execution_count": 25,
   "metadata": {
    "collapsed": false
   },
   "outputs": [],
   "source": [
    "rfr_model = RFR() #n_estimators, max_features, max_depth, bootstrap\n",
    "etr_model = ETR() #n_estimatros, criterion, max_features, max_depth, bootstrap\n",
    "gbr_model = GBR() #loss, learning_rate, n_estimators, max_depth, max_features, alpha\n",
    "knr_model = KNR() #n_neighbors, weights\n",
    "dtr_model = DTR() #max_features, max_depth\n",
    "lsvr_model = SVR(kernel=\"linear\") #C, epsilon, kernel, degree\n",
    "psvr_model = SVR(kernel=\"poly\") #C, epsilon, kernel, degree\n",
    "rsvr_model = SVR(kernel=\"rbf\") #C, epsilon, kernel, degree\n",
    "gpr_model = GPR() #none\n",
    "\n",
    "x = train\n",
    "y = train_labels\n"
   ]
  },
  {
   "cell_type": "code",
   "execution_count": 28,
   "metadata": {
    "collapsed": false
   },
   "outputs": [
    {
     "name": "stdout",
     "output_type": "stream",
     "text": [
      "83.3079998493\n",
      "RandomForestRegressor(bootstrap=True, criterion='mse', max_depth=None,\n",
      "           max_features=None, max_leaf_nodes=None,\n",
      "           min_impurity_split=1e-07, min_samples_leaf=1,\n",
      "           min_samples_split=2, min_weight_fraction_leaf=0.0,\n",
      "           n_estimators=30, n_jobs=1, oob_score=False, random_state=None,\n",
      "           verbose=0, warm_start=False)\n",
      "-0.153664545677\n",
      "{'max_features': None, 'n_estimators': 30}\n",
      "[-0.23330051 -0.182618   -0.16335608 -0.15953965 -0.15967473 -0.15559503\n",
      " -0.15560438 -0.15513566 -0.15443269 -0.1558685  -0.1553004  -0.31186511\n",
      " -0.21273691 -0.18286196 -0.18366161 -0.17875186 -0.17964826 -0.17630899\n",
      " -0.17405626 -0.17683347 -0.17347614 -0.17130541 -0.23712801 -0.17350446\n",
      " -0.16457753 -0.1587088  -0.15601605 -0.15708441 -0.15366455 -0.15502137\n",
      " -0.15542548 -0.15489488 -0.15559301]\n"
     ]
    }
   ],
   "source": [
    "##rfr\n",
    "start = time.time()\n",
    "rfr_params = {\"n_estimators\": [1,5,10,15,20,25,30,35,40,45,50],\n",
    "             \"max_features\": [\"auto\",\"log2\",None]}\n",
    "gs1 = GridSearchCV(rfr_model, rfr_params, scoring = simple_rmse)\n",
    "gs1.fit(x,y)\n",
    "end = time.time()\n",
    "print end-start\n",
    "print gs1.best_estimator_\n",
    "print gs1.best_score_\n",
    "print gs1.best_params_\n",
    "print gs1.cv_results_['mean_test_score']"
   ]
  },
  {
   "cell_type": "code",
   "execution_count": null,
   "metadata": {
    "collapsed": true
   },
   "outputs": [],
   "source": [
    "##etr\n",
    "start = time.time()\n",
    "etr_params = {\"n_estimators\": [1,5,10,15,20,25,30,35,40,45,50],\n",
    "             \"max_features\": [\"auto\",\"log2\",None],\n",
    "             \"criterion\": [\"mse\", \"mae\"],\n",
    "             \"bootstrap\": [True, False]}\n",
    "gs2 = GridSearchCV(etr_model, etr_params, scoring = simple_rmse)\n",
    "gs2.fit(x,y)\n",
    "end = time.time()\n",
    "print end-start\n",
    "print gs2.best_estimator_\n",
    "print gs2.best_score_\n",
    "print gs2.best_params_\n",
    "print gs2.cv_results_['mean_test_score']\n"
   ]
  },
  {
   "cell_type": "code",
   "execution_count": null,
   "metadata": {
    "collapsed": true
   },
   "outputs": [],
   "source": [
    "##gbr\n",
    "start = time.time()\n",
    "gbr_params = {\"n_estimators\": [10,50,100,150,200,250],\n",
    "             \"max_features\": [\"auto\",\"log2\",None],\n",
    "             \"max_depth\": [1,2,3,4,5,6,7,8,9,10],\n",
    "             \"learning_rate\": [.001, .01, .1, 1, 10],\n",
    "             \"loss\": [\"ls\", \"lad\", \"huber\"]}\n",
    "gs3 = GridSearchCV(gbr_model, gbr_params, scoring = simple_rmse)\n",
    "gs3.fit(x,y)\n",
    "end = time.time()\n",
    "print end-start\n",
    "print gs3.best_estimator_\n",
    "print gs3.best_score_\n",
    "print gs3.best_params_\n",
    "print gs3.cv_results_['mean_test_score']"
   ]
  },
  {
   "cell_type": "code",
   "execution_count": null,
   "metadata": {
    "collapsed": true
   },
   "outputs": [],
   "source": [
    "##knr\n",
    "start = time.time()\n",
    "knr_params = {\"n_neighbors\": [1,2,3,4,5,6,7,8,9,10],\n",
    "             \"weights\": [\"uniform\", \"distance\"]}\n",
    "gs4 = GridSearchCV(knr_model, knr_params, scoring = simple_rmse)\n",
    "gs4.fit(x,y)\n",
    "end = time.time()\n",
    "print end-start\n",
    "print gs4.best_estimator_\n",
    "print gs4.best_score_\n",
    "print gs4.best_params_\n",
    "print gs4.cv_results_['mean_test_score']"
   ]
  },
  {
   "cell_type": "code",
   "execution_count": null,
   "metadata": {
    "collapsed": true
   },
   "outputs": [],
   "source": [
    "##dtr\n",
    "start = time.time()\n",
    "dtr_params = {\"max_features\": [\"auto\",\"log2\",None],\n",
    "             \"criterion\": [\"mse\", \"mae\"]}\n",
    "gs5 = GridSearchCV(dtr_model, dtr_params, scoring = simple_rmse)\n",
    "gs5.fit(x,y)\n",
    "end = time.time()\n",
    "print end-start\n",
    "print gs5.best_estimator_\n",
    "print gs5.best_score_\n",
    "print gs5.best_params_\n",
    "print gs5.cv_results_['mean_test_score']"
   ]
  },
  {
   "cell_type": "code",
   "execution_count": null,
   "metadata": {
    "collapsed": true
   },
   "outputs": [],
   "source": [
    "##linear svr\n",
    "start = time.time()\n",
    "lsvr_params = {\"C\": [.001,.01,.1,1,10,100]}\n",
    "gs6 = GridSearchCV(lsvr_model, lsvr_params, scoring = simple_rmse)\n",
    "gs6.fit(x,y)\n",
    "end = time.time()\n",
    "print end-start\n",
    "print gs6.best_estimator_\n",
    "print gs6.best_score_\n",
    "print gs6.best_params_\n",
    "print gs6.cv_results_['mean_test_score']"
   ]
  },
  {
   "cell_type": "code",
   "execution_count": null,
   "metadata": {
    "collapsed": true
   },
   "outputs": [],
   "source": [
    "##poly svr\n",
    "start = time.time()\n",
    "psvr_params = {\"C\": [.001,.01,.1,1,10,100],\n",
    "              \"degree\": [1,2,3]}\n",
    "gs7 = GridSearchCV(psvr_model, psvr_params, scoring = simple_rmse)\n",
    "gs7.fit(x,y)\n",
    "end = time.time()\n",
    "print end-start\n",
    "print gs7.best_estimator_\n",
    "print gs7.best_score_\n",
    "print gs7.best_params_\n",
    "print gs7.cv_results_['mean_test_score']"
   ]
  },
  {
   "cell_type": "code",
   "execution_count": 22,
   "metadata": {
    "collapsed": false
   },
   "outputs": [
    {
     "name": "stdout",
     "output_type": "stream",
     "text": [
      "96.7350001335\n",
      "['mean_fit_time', 'mean_score_time', 'mean_test_score', 'mean_train_score', 'param_C', 'params', 'rank_test_score', 'split0_test_score', 'split0_train_score', 'split1_test_score', 'split1_train_score', 'split2_test_score', 'split2_train_score', 'std_fit_time', 'std_score_time', 'std_test_score', 'std_train_score']\n"
     ]
    }
   ],
   "source": [
    "##rbf svr\n",
    "start = time.time()\n",
    "rsvr_params = {\"C\": [.001,.01,.1,1,10,100]}\n",
    "gs8 = GridSearchCV(rsvr_model, rsvr_params, scoring = simple_rmse)\n",
    "gs8.fit(x,y)\n",
    "end = time.time()\n",
    "print end-start\n",
    "print gs8.best_estimator_\n",
    "print gs8.best_score_\n",
    "print gs8.best_params_\n",
    "print gs8.cv_results_['mean_test_score']"
   ]
  },
  {
   "cell_type": "code",
   "execution_count": null,
   "metadata": {
    "collapsed": true
   },
   "outputs": [],
   "source": [
    "##gpr\n",
    "print rmse_cv(gpr_model, x, y)\n",
    "#print sorted(gs9.cv_results_.keys())"
   ]
  }
 ],
 "metadata": {
  "kernelspec": {
   "display_name": "Python [default]",
   "language": "python",
   "name": "python2"
  },
  "language_info": {
   "codemirror_mode": {
    "name": "ipython",
    "version": 2
   },
   "file_extension": ".py",
   "mimetype": "text/x-python",
   "name": "python",
   "nbconvert_exporter": "python",
   "pygments_lexer": "ipython2",
   "version": "2.7.12"
  }
 },
 "nbformat": 4,
 "nbformat_minor": 1
}
