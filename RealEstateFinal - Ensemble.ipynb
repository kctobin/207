{
 "cells": [
  {
   "cell_type": "code",
   "execution_count": null,
   "metadata": {
    "collapsed": true
   },
   "outputs": [],
   "source": [
    "%matplotlib inline\n",
    "\n",
    "import datetime\n",
    "import pandas as pd\n",
    "import numpy as np\n",
    "import sklearn\n",
    "import matplotlib.pyplot as plt\n",
    "from sklearn.ensemble import GradientBoostingRegressor as GBR\n",
    "from sklearn.model_selection import cross_val_score, GridSearchCV\n",
    "from sklearn.metrics import mean_squared_error\n",
    "from sklearn.model_selection import train_test_split"
   ]
  },
  {
   "cell_type": "code",
   "execution_count": null,
   "metadata": {
    "collapsed": true
   },
   "outputs": [],
   "source": [
    "##helper methods\n",
    "def simple_rmse(model, X, Y):\n",
    "    y_pred = model.predict(X)\n",
    "    rmse = -np.sqrt(mean_squared_error(y_pred, Y))\n",
    "    return rmse\n",
    "\n",
    "def rmse_cv(model, X_train, y):\n",
    "    rmse= np.sqrt(-cross_val_score(model, X_train, y, scoring=\"neg_mean_squared_error\", cv = 5))\n",
    "    return(rmse)\n",
    "\n",
    "def plot_it(model):\n",
    "    model.fit(train_split, train_split_labels)\n",
    "    preds = model.predict(dev)\n",
    "    \n",
    "    deltas = preds-dev_labels\n",
    "    print \"mean: %3.4f\" %np.mean(deltas)\n",
    "    print \"standard deviation: %3.4f\" %np.std(deltas)\n",
    "    \n",
    "    plt.scatter(dev_labels,preds)\n",
    "    plt.xlim((10,14.0))\n",
    "    plt.ylim((10,14.0))\n",
    "    plt.plot(range(10,15), range(10,15));\n",
    "    \n",
    "def plot_rfe(model):\n",
    "    scores = []\n",
    "    for i in range(50):\n",
    "        rfe = RFE(model, i+1)\n",
    "        rfe.fit(train_split,train_split_labels)\n",
    "        scores.append(rfe.score(dev,dev_labels))\n",
    "    \n",
    "    plt.scatter(range(1,51),scores)\n",
    "    plt.show()\n",
    "    \n",
    "def plot_pca(model, n):\n",
    "    scores = []\n",
    "    pca = PCA(n)\n",
    "    pca_train = pca.fit_transform(train_split)\n",
    "    pca_dev = pca.transform(dev)\n",
    "    for i in range(n):\n",
    "        model.fit(pca_train[:,0:i+1], train_split_labels)\n",
    "        scores.append(-simple_rmse(model, pca_dev[:,0:i+1], dev_labels))\n",
    "    \n",
    "    plt.scatter(range(1,n+1),scores)\n",
    "    plt.show()"
   ]
  },
  {
   "cell_type": "code",
   "execution_count": null,
   "metadata": {
    "collapsed": true
   },
   "outputs": [],
   "source": [
    "##read in data"
   ]
  },
  {
   "cell_type": "code",
   "execution_count": null,
   "metadata": {
    "collapsed": true
   },
   "outputs": [],
   "source": [
    "##pca?"
   ]
  },
  {
   "cell_type": "code",
   "execution_count": null,
   "metadata": {
    "collapsed": true
   },
   "outputs": [],
   "source": [
    "##build ensemble model\n",
    "ensemble = GBR()\n",
    "##GradientBoostingRegressor\n",
    "est = [200,250,300,350,400, 450, 500]\n",
    "md = [1,2,3]\n",
    "lr = [.05, .075, .1, .15]\n",
    "start = time.time()\n",
    "gbr_params = {\"n_estimators\": est,\n",
    "             \"max_features\": [\"auto\"],\n",
    "             \"max_depth\": md,\n",
    "             \"learning_rate\": lr,\n",
    "             \"loss\": [\"ls\"]}#,\"ls\", \"lad\", \"huber\"]}\n",
    "gs3 = GridSearchCV(ensemble, gbr_params, scoring = simple_rmse)\n",
    "gs3.fit(x,y)\n",
    "end = time.time()\n",
    "print end-start\n",
    "print gs3.best_estimator_\n",
    "print gs3.best_score_\n",
    "print gs3.best_params_\n",
    "print gs3.cv_results_['mean_test_score']\n",
    "\n",
    "f, axarr = plt.subplots(len(lr))\n",
    "for b,val2 in enumerate(lr):\n",
    "    for a,val in enumerate(md):\n",
    "        axarr[b].plot(est,-gs3.cv_results_['mean_test_score'][(len(est)*a)+(len(est)*len(md))*b:(len(est)*(a+1))+(len(est)*len(md))*b], label=val)\n",
    "        axarr[b].legend()\n",
    "        axarr[b].set_ylim((.12,.16))\n",
    "        \n",
    "f.set_figheight(5 * len(lr))\n",
    "f.set_figwidth(5)\n",
    "f.show;"
   ]
  },
  {
   "cell_type": "code",
   "execution_count": null,
   "metadata": {
    "collapsed": true
   },
   "outputs": [],
   "source": [
    "##best version\n",
    "ls_gbr_best = GBR(n_estimators =gs3.best_params_['n_estimators'],max_features =gs3.best_params_['max_features'], max_depth =gs3.best_params_['max_depth'], learning_rate =gs3.best_params_['learning_rate'], loss=gs3.best_params_['loss'])\n",
    "plot_it(ls_gbr_best)"
   ]
  },
  {
   "cell_type": "code",
   "execution_count": null,
   "metadata": {
    "collapsed": true
   },
   "outputs": [],
   "source": [
    "##output results"
   ]
  }
 ],
 "metadata": {
  "anaconda-cloud": {},
  "kernelspec": {
   "display_name": "Python [default]",
   "language": "python",
   "name": "python2"
  },
  "language_info": {
   "codemirror_mode": {
    "name": "ipython",
    "version": 2
   },
   "file_extension": ".py",
   "mimetype": "text/x-python",
   "name": "python",
   "nbconvert_exporter": "python",
   "pygments_lexer": "ipython2",
   "version": "2.7.12"
  }
 },
 "nbformat": 4,
 "nbformat_minor": 1
}
