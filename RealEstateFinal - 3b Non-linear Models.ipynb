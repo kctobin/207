{
 "cells": [
  {
   "cell_type": "code",
   "execution_count": 42,
   "metadata": {
    "collapsed": false
   },
   "outputs": [],
   "source": [
    "%matplotlib inline\n",
    "\n",
    "import datetime\n",
    "import pandas as pd\n",
    "import numpy as np\n",
    "import sklearn\n",
    "from sklearn.preprocessing import PolynomialFeatures as PF\n",
    "from sklearn.linear_model import LinearRegression, Ridge\n",
    "from sklearn.pipeline import Pipeline\n",
    "from sklearn import linear_model as lm\n",
    "from sklearn import preprocessing\n",
    "from sklearn import metrics\n",
    "import seaborn as sns\n",
    "from scipy.stats import norm\n",
    "from sklearn.preprocessing import StandardScaler\n",
    "from scipy import stats\n",
    "import warnings\n",
    "warnings.filterwarnings('ignore')\n",
    "import matplotlib.pyplot as plt"
   ]
  },
  {
   "cell_type": "code",
   "execution_count": 44,
   "metadata": {
    "collapsed": false
   },
   "outputs": [
    {
     "name": "stdout",
     "output_type": "stream",
     "text": [
      "(1460, 357)\n",
      "(1459, 357)\n"
     ]
    }
   ],
   "source": [
    "from sklearn.ensemble import RandomForestRegressor as RFR, ExtraTreesRegressor as ETR, GradientBoostingRegressor as GBR\n",
    "from sklearn.neighbors import KNeighborsRegressor as KNR\n",
    "from sklearn.tree import DecisionTreeRegressor as DTR\n",
    "from sklearn.svm import SVR\n",
    "from sklearn.gaussian_process import GaussianProcessRegressor as GPR\n",
    "from sklearn.model_selection import cross_val_score, GridSearchCV\n",
    "from sklearn.metrics import mean_squared_error\n",
    "from sklearn.kernel_ridge import KernelRidge as KR\n",
    "from sklearn.feature_selection import RFE\n",
    "from sklearn.model_selection import train_test_split\n",
    "from sklearn.decomposition import PCA\n",
    "import time\n",
    "\n",
    "train = pd.read_csv('data/train_fe.csv',delimiter=',',header=0,na_values=[\"NA\"])\n",
    "train_labels = train[\"SalePrice\"].copy()\n",
    "train_labels = np.log(train[\"SalePrice\"])\n",
    "train = train.drop( [\"SalePrice\"], axis=1 )\n",
    "train = train.drop(['Unnamed: 0'],axis=1)\n",
    "#train = pd.get_dummies(train, columns = train.select_dtypes(include=['category']).columns)\n",
    "train_split, dev, train_split_labels, dev_labels = train_test_split(train,train_labels, test_size = .5, random_state=207)\n",
    "test = pd.read_csv('data/test_fe.csv',delimiter=',',header=0)\n",
    "test = test.drop(['Unnamed: 0'],axis=1)\n",
    "#test = pd.get_dummies(test, columns = test.select_dtypes(include=['category']).columns)\n",
    "\n",
    "def simple_rmse(model, X, Y):\n",
    "    y_pred = model.predict(X)\n",
    "    rmse = -np.sqrt(mean_squared_error(y_pred, Y))\n",
    "    return rmse\n",
    "\n",
    "def rmse_cv(model, X_train, y):\n",
    "    rmse= np.sqrt(-cross_val_score(model, X_train, y, scoring=\"neg_mean_squared_error\", cv = 5))\n",
    "    return(rmse)\n",
    "\n",
    "def plot_it(model):\n",
    "    model.fit(train_split, train_split_labels)\n",
    "    preds = model.predict(dev)\n",
    "    \n",
    "    deltas = preds-dev_labels\n",
    "    print \"mean: %3.4f\" %np.mean(deltas)\n",
    "    print \"standard deviation: %3.4f\" %np.std(deltas)\n",
    "    \n",
    "    plt.scatter(dev_labels,preds)\n",
    "    plt.xlim((10,14.0))\n",
    "    plt.ylim((10,14.0))\n",
    "    plt.plot(range(10,15), range(10,15));\n",
    "    \n",
    "def plot_pca(model, n):\n",
    "    scores = []\n",
    "    pca = PCA(n)\n",
    "    pca_train = pca.fit_transform(train_split)\n",
    "    pca_dev = pca.transform(dev)\n",
    "    for i in range(n):\n",
    "        model.fit(pca_train[:,0:i+1], train_split_labels)\n",
    "        scores.append(-simple_rmse(model, pca_dev[:,0:i+1], dev_labels))\n",
    "    \n",
    "    plt.scatter(range(1,n+1),scores)\n",
    "    plt.show()\n",
    "\n",
    "print train.shape\n",
    "print test.shape\n",
    "\n",
    "preds_dev = pd.DataFrame({\"Actual\": dev_labels.copy()})\n"
   ]
  },
  {
   "cell_type": "code",
   "execution_count": 46,
   "metadata": {
    "collapsed": false
   },
   "outputs": [
    {
     "name": "stdout",
     "output_type": "stream",
     "text": [
      "(1460, 357)\n"
     ]
    }
   ],
   "source": [
    "rfr_model = RFR() #n_estimators, max_features, max_depth, bootstrap\n",
    "etr_model = ETR() #n_estimatros, criterion, max_features, max_depth, bootstrap\n",
    "gbr_model = GBR() #loss, learning_rate, n_estimators, max_depth, max_features, alpha\n",
    "knr_model = KNR() #n_neighbors, weights\n",
    "dtr_model = DTR() #max_features, max_depth\n",
    "lsvr_model = SVR(kernel=\"linear\") #C, epsilon, kernel, degree\n",
    "psvr_model = SVR(kernel=\"poly\") #C, epsilon, kernel, degree\n",
    "rsvr_model = SVR(kernel=\"rbf\") #C, epsilon, kernel, degree\n",
    "gpr_model = GPR() #none\n",
    "lkr_model = KR(kernel=\"linear\")\n",
    "pkr_model = KR(kernel=\"poly\")\n",
    "rkr_model = KR(kernel=\"rbf\")\n",
    "\n",
    "x = train.copy()\n",
    "y = train_labels.copy()\n",
    "\n",
    "print x.shape\n"
   ]
  },
  {
   "cell_type": "code",
   "execution_count": 48,
   "metadata": {
    "collapsed": false
   },
   "outputs": [
    {
     "data": {
      "image/png": "[encoded data removed]",
      "text/plain": [
       "<matplotlib.figure.Figure at 0xc134908>"
      ]
     },
     "metadata": {},
     "output_type": "display_data"
    }
   ],
   "source": [
    "pca_test = PCA(10)\n",
    "pca_test.fit(x)\n",
    "var = []\n",
    "for a in range(10):\n",
    "    var.append(np.sum(pca_test.explained_variance_ratio_[:a+1]))\n",
    "    \n",
    "plt.plot(range(1,11), var)\n",
    "plt.xlim((0,10));"
   ]
  },
  {
   "cell_type": "code",
   "execution_count": 50,
   "metadata": {
    "collapsed": false
   },
   "outputs": [
    {
     "name": "stdout",
     "output_type": "stream",
     "text": [
      "460.031000137\n",
      "-0.151659207152\n",
      "{'max_features': 'auto', 'n_estimators': 400}\n"
     ]
    },
    {
     "data": {
      "image/png": "[encoded data removed]",
      "text/plain": [
       "<matplotlib.figure.Figure at 0x1b1cd780>"
      ]
     },
     "metadata": {},
     "output_type": "display_data"
    }
   ],
   "source": [
    "#RandomForestRegressor\n",
    "est = [250,300,350,400,450,500]\n",
    "feat = [\"auto\",None]\n",
    "start = time.time()\n",
    "rfr_params = {\"n_estimators\": est,\n",
    "             \"max_features\": feat}\n",
    "gs1 = GridSearchCV(rfr_model, rfr_params, scoring = simple_rmse)\n",
    "gs1.fit(x,y)\n",
    "end = time.time()\n",
    "print end-start\n",
    "print gs1.best_score_\n",
    "print gs1.best_params_\n",
    "\n",
    "for a,val in enumerate(feat):\n",
    "    plt.plot(est,-gs1.cv_results_['mean_test_score'][len(est)*a:len(est)*(a+1)], label=val)\n",
    "    plt.legend()\n",
    "plt.ylim((.14,.16))\n",
    "plt.show;\n"
   ]
  },
  {
   "cell_type": "code",
   "execution_count": 52,
   "metadata": {
    "collapsed": false
   },
   "outputs": [
    {
     "name": "stdout",
     "output_type": "stream",
     "text": [
      "mean: 0.0043\n",
      "standard deviation: 0.1588\n"
     ]
    },
    {
     "data": {
      "image/png": "[encoded data removed]",
      "text/plain": [
       "<matplotlib.figure.Figure at 0x1a5635c0>"
      ]
     },
     "metadata": {},
     "output_type": "display_data"
    }
   ],
   "source": [
    "rfr_best = RFR(n_estimators =gs1.best_params_['n_estimators'],max_features =gs1.best_params_['max_features'])\n",
    "plot_it(rfr_best)"
   ]
  },
  {
   "cell_type": "code",
   "execution_count": 54,
   "metadata": {
    "collapsed": false
   },
   "outputs": [],
   "source": [
    "rfr_best.fit(train_split, train_split_labels)\n",
    "preds_dev[\"rfr\"] = rfr_best.predict(dev)\n",
    "rfr_best.fit(train, train_labels)\n",
    "#rfr_best.predict(test)\n",
    "preds_test = pd.DataFrame({\"rfr\": rfr_best.predict(test)})"
   ]
  },
  {
   "cell_type": "code",
   "execution_count": 56,
   "metadata": {
    "collapsed": false
   },
   "outputs": [
    {
     "name": "stdout",
     "output_type": "stream",
     "text": [
      "271.816999912\n",
      "ExtraTreesRegressor(bootstrap=True, criterion='mse', max_depth=None,\n",
      "          max_features=None, max_leaf_nodes=None, min_impurity_split=1e-07,\n",
      "          min_samples_leaf=1, min_samples_split=2,\n",
      "          min_weight_fraction_leaf=0.0, n_estimators=300, n_jobs=1,\n",
      "          oob_score=False, random_state=None, verbose=0, warm_start=False)\n",
      "-0.152552663344\n",
      "{'max_features': None, 'n_estimators': 300, 'bootstrap': True, 'criterion': 'mse'}\n"
     ]
    },
    {
     "data": {
      "image/png": "[encoded data removed]",
      "text/plain": [
       "<matplotlib.figure.Figure at 0x1b6e2be0>"
      ]
     },
     "metadata": {},
     "output_type": "display_data"
    }
   ],
   "source": [
    "##ExtraTreesRegressor\n",
    "est = [50,100,150,200,250,300,350,400]\n",
    "feat = [\"auto\",None]\n",
    "start = time.time()\n",
    "etr_params = {\"n_estimators\": est,\n",
    "             \"max_features\": feat,\n",
    "             \"criterion\": [\"mse\"],\n",
    "             \"bootstrap\": [True]}\n",
    "gs2 = GridSearchCV(etr_model, etr_params, scoring = simple_rmse)\n",
    "gs2.fit(x,y)\n",
    "end = time.time()\n",
    "print end-start\n",
    "print gs2.best_estimator_\n",
    "print gs2.best_score_\n",
    "print gs2.best_params_\n",
    "\n",
    "for a,val in enumerate(feat):\n",
    "    plt.plot(est,-gs2.cv_results_['mean_test_score'][len(est)*a:len(est)*(a+1)], label=val)\n",
    "    plt.legend()\n",
    "plt.ylim((.14,.18))\n",
    "plt.show;\n"
   ]
  },
  {
   "cell_type": "code",
   "execution_count": 58,
   "metadata": {
    "collapsed": false
   },
   "outputs": [
    {
     "name": "stdout",
     "output_type": "stream",
     "text": [
      "mean: -0.0004\n",
      "standard deviation: 0.1634\n"
     ]
    },
    {
     "data": {
      "image/png": "[encoded data removed]",
      "text/plain": [
       "<matplotlib.figure.Figure at 0x14126470>"
      ]
     },
     "metadata": {},
     "output_type": "display_data"
    }
   ],
   "source": [
    "etr_best = ETR(n_estimators =gs2.best_params_['n_estimators'],max_features =gs2.best_params_['max_features'], criterion = \"mse\", bootstrap = True)\n",
    "plot_it(etr_best)"
   ]
  },
  {
   "cell_type": "code",
   "execution_count": 60,
   "metadata": {
    "collapsed": true
   },
   "outputs": [],
   "source": [
    "etr_best.fit(train_split, train_split_labels)\n",
    "preds_dev[\"etr\"] = etr_best.predict(dev)\n",
    "etr_best.fit(train, train_labels)\n",
    "preds_test[\"etr\"] = etr_best.predict(test)"
   ]
  },
  {
   "cell_type": "code",
   "execution_count": 62,
   "metadata": {
    "collapsed": false
   },
   "outputs": [
    {
     "name": "stdout",
     "output_type": "stream",
     "text": [
      "199.976999998\n",
      "GradientBoostingRegressor(alpha=0.9, criterion='friedman_mse', init=None,\n",
      "             learning_rate=0.1, loss='ls', max_depth=2,\n",
      "             max_features='auto', max_leaf_nodes=None,\n",
      "             min_impurity_split=1e-07, min_samples_leaf=1,\n",
      "             min_samples_split=2, min_weight_fraction_leaf=0.0,\n",
      "             n_estimators=1000, presort='auto', random_state=None,\n",
      "             subsample=1.0, verbose=0, warm_start=False)\n",
      "-0.131989599792\n",
      "{'max_features': 'auto', 'loss': 'ls', 'learning_rate': 0.1, 'n_estimators': 1000, 'max_depth': 2}\n",
      "[-0.13781126 -0.13597627 -0.1348019  -0.13449354 -0.132681   -0.13615506\n",
      " -0.13521366 -0.13534156 -0.13474771 -0.1335618  -0.13382768 -0.13336775\n",
      " -0.1323847  -0.13216528 -0.1319896  -0.1352479  -0.13405463 -0.13393376\n",
      " -0.13397018 -0.13407977]\n"
     ]
    },
    {
     "data": {
      "image/png": "[encoded data removed]",
      "text/plain": [
       "<matplotlib.figure.Figure at 0xe775a90>"
      ]
     },
     "metadata": {},
     "output_type": "display_data"
    }
   ],
   "source": [
    "##GradientBoostingRegressor\n",
    "est = [300,400, 500, 600,1000]\n",
    "md = [2,3]\n",
    "lr = [.05, .1]\n",
    "start = time.time()\n",
    "gbr_params = {\"n_estimators\": est,\n",
    "             \"max_features\": [\"auto\"],\n",
    "             \"max_depth\": md,\n",
    "             \"learning_rate\": lr,\n",
    "             \"loss\": [\"ls\"]}#,\"ls\", \"lad\", \"huber\"]}\n",
    "gs3 = GridSearchCV(gbr_model, gbr_params, scoring = simple_rmse)\n",
    "gs3.fit(x,y)\n",
    "end = time.time()\n",
    "print end-start\n",
    "print gs3.best_estimator_\n",
    "print gs3.best_score_\n",
    "print gs3.best_params_\n",
    "print gs3.cv_results_['mean_test_score']\n",
    "\n",
    "f, axarr = plt.subplots(len(lr))\n",
    "for b,val2 in enumerate(lr):\n",
    "    for a,val in enumerate(md):\n",
    "        axarr[b].plot(est,-gs3.cv_results_['mean_test_score'][(len(est)*a)+(len(est)*len(md))*b:(len(est)*(a+1))+(len(est)*len(md))*b], label=val)\n",
    "        axarr[b].legend()\n",
    "        axarr[b].set_ylim((.12,.16))\n",
    "        \n",
    "f.set_figheight(5 * len(lr))\n",
    "f.set_figwidth(5)\n",
    "f.show;\n"
   ]
  },
  {
   "cell_type": "code",
   "execution_count": 64,
   "metadata": {
    "collapsed": false
   },
   "outputs": [
    {
     "name": "stdout",
     "output_type": "stream",
     "text": [
      "mean: 0.0007\n",
      "standard deviation: 0.1456\n"
     ]
    },
    {
     "data": {
      "image/png": "[encoded data removed]",
      "text/plain": [
       "<matplotlib.figure.Figure at 0x1b175b00>"
      ]
     },
     "metadata": {},
     "output_type": "display_data"
    }
   ],
   "source": [
    "ls_gbr_best = GBR(n_estimators =gs3.best_params_['n_estimators'],max_features =gs3.best_params_['max_features'], max_depth =gs3.best_params_['max_depth'], learning_rate =gs3.best_params_['learning_rate'], loss=gs3.best_params_['loss'])\n",
    "plot_it(ls_gbr_best)"
   ]
  },
  {
   "cell_type": "code",
   "execution_count": 66,
   "metadata": {
    "collapsed": true
   },
   "outputs": [],
   "source": [
    "ls_gbr_best.fit(train_split, train_split_labels)\n",
    "preds_dev[\"lsgbr\"] = ls_gbr_best.predict(dev)\n",
    "ls_gbr_best.fit(train, train_labels)\n",
    "preds_test[\"lsgbr\"] = ls_gbr_best.predict(test)"
   ]
  },
  {
   "cell_type": "code",
   "execution_count": null,
   "metadata": {
    "collapsed": false
   },
   "outputs": [],
   "source": [
    "##GradientBoostingRegressor\n",
    "est = [200,300,400, 500, 600,1000]\n",
    "md = [3,4,5]\n",
    "lr = [.05, .1]\n",
    "start = time.time()\n",
    "gbr_params = {\"n_estimators\": est,\n",
    "             \"max_features\": [\"auto\"],\n",
    "             \"max_depth\": md,\n",
    "             \"learning_rate\": lr,\n",
    "             \"loss\": [\"lad\"]}#,\"ls\", \"lad\", \"huber\"]}\n",
    "gs3b = GridSearchCV(gbr_model, gbr_params, scoring = simple_rmse)\n",
    "gs3b.fit(x,y)\n",
    "end = time.time()\n",
    "print end-start\n",
    "print gs3b.best_estimator_\n",
    "print gs3b.best_score_\n",
    "print gs3b.best_params_\n",
    "\n",
    "f, axarr = plt.subplots(len(lr))\n",
    "for b,val2 in enumerate(lr):\n",
    "    for a,val in enumerate(md):\n",
    "        axarr[b].plot(est,-gs3b.cv_results_['mean_test_score'][(len(est)*a)+(len(est)*len(md))*b:(len(est)*(a+1))+(len(est)*len(md))*b], label=val)\n",
    "        axarr[b].legend()\n",
    "        axarr[b].set_ylim((.12,.16))\n",
    "        \n",
    "f.set_figheight(5 * len(lr))\n",
    "f.set_figwidth(5)\n",
    "f.show;\n"
   ]
  },
  {
   "cell_type": "code",
   "execution_count": null,
   "metadata": {
    "collapsed": false
   },
   "outputs": [],
   "source": [
    "lad_gbr_best = GBR(n_estimators =gs3b.best_params_['n_estimators'],max_features =gs3b.best_params_['max_features'], max_depth =gs3b.best_params_['max_depth'], learning_rate =gs3b.best_params_['learning_rate'], loss=gs3b.best_params_['loss'])\n",
    "plot_it(lad_gbr_best)"
   ]
  },
  {
   "cell_type": "code",
   "execution_count": null,
   "metadata": {
    "collapsed": true
   },
   "outputs": [],
   "source": [
    "lad_gbr_best.fit(train_split, train_split_labels)\n",
    "preds_dev[\"ladgbr\"] = lad_gbr_best.predict(dev)\n",
    "lad_gbr_best.fit(train, train_labels)\n",
    "preds_test[\"ladgbr\"] = lad_gbr_best.predict(test)"
   ]
  },
  {
   "cell_type": "code",
   "execution_count": null,
   "metadata": {
    "collapsed": false
   },
   "outputs": [],
   "source": [
    "##GradientBoostingRegressor\n",
    "est = [300,400,500,600,700,800,1000,1500,2000]\n",
    "md = [2,3,4]\n",
    "lr = [.01,.05, .1]\n",
    "start = time.time()\n",
    "gbr_params = {\"n_estimators\": est,\n",
    "             \"max_features\": [\"auto\"],\n",
    "             \"max_depth\": md,\n",
    "             \"learning_rate\": lr,\n",
    "             \"loss\": [\"huber\"]}#,\"ls\", \"lad\", \"huber\"]}\n",
    "gs3c = GridSearchCV(gbr_model, gbr_params, scoring = simple_rmse)\n",
    "gs3c.fit(x,y)\n",
    "end = time.time()\n",
    "print end-start\n",
    "print gs3c.best_estimator_\n",
    "print gs3c.best_score_\n",
    "print gs3c.best_params_\n",
    "\n",
    "f, axarr = plt.subplots(len(lr))\n",
    "for b,val2 in enumerate(lr):\n",
    "    for a,val in enumerate(md):\n",
    "        axarr[b].plot(est,-gs3c.cv_results_['mean_test_score'][(len(est)*a)+(len(est)*len(md))*b:(len(est)*(a+1))+(len(est)*len(md))*b], label=val)\n",
    "        axarr[b].legend()\n",
    "        axarr[b].set_ylim((.12,.16))\n",
    "        \n",
    "f.set_figheight(5 * len(lr))\n",
    "f.set_figwidth(5)\n",
    "f.show;\n",
    "\n"
   ]
  },
  {
   "cell_type": "code",
   "execution_count": null,
   "metadata": {
    "collapsed": false
   },
   "outputs": [],
   "source": [
    "huber_gbr_best = GBR(n_estimators =gs3c.best_params_['n_estimators'],max_features =gs3c.best_params_['max_features'], max_depth =gs3c.best_params_['max_depth'], learning_rate =gs3c.best_params_['learning_rate'], loss=gs3c.best_params_['loss'])\n",
    "plot_it(huber_gbr_best)"
   ]
  },
  {
   "cell_type": "code",
   "execution_count": null,
   "metadata": {
    "collapsed": true
   },
   "outputs": [],
   "source": [
    "huber_gbr_best.fit(train_split, train_split_labels)\n",
    "preds_dev[\"hubergbr\"] = huber_gbr_best.predict(dev)\n",
    "huber_gbr_best.fit(train, train_labels)\n",
    "preds_test[\"hubergbr\"] = huber_gbr_best.predict(test)"
   ]
  },
  {
   "cell_type": "code",
   "execution_count": null,
   "metadata": {
    "collapsed": false
   },
   "outputs": [],
   "source": [
    "from sklearn.preprocessing import MinMaxScaler as MMS\n",
    "scaled = x.copy()\n",
    "scaled_split = train_split.copy()\n",
    "scaled_dev = dev.copy()\n",
    "scaled_test = test.copy()\n",
    "\n",
    "cols = ['GrLivArea','BsmtFinSF', 'BsmtUnfSF', '1stFlrSF', 'TotalPorchSqFt']\n",
    "\n",
    "scaler = MMS((0,5))\n",
    "\n",
    "for a in cols:\n",
    "    scaled[a] = scaler.fit_transform(scaled[a])\n",
    "    scaled_split[a] = scaler.fit_transform(scaled_split[a])\n",
    "    scaled_dev[a] = scaler.fit_transform(scaled_split[a]) \n",
    "    scaled_test[a] = scaler.fit_transform(scaled_test[a])\n",
    "\n",
    "test.ix[:,\"Neighborhood_Blmngtn\":\"Neighborhood_Veenker\"] = x.ix[:,\"Neighborhood_Blmngtn\":\"Neighborhood_Veenker\"]*15\n",
    "#print test[\"GrLivArea\"]"
   ]
  },
  {
   "cell_type": "code",
   "execution_count": null,
   "metadata": {
    "collapsed": false
   },
   "outputs": [],
   "source": [
    "##KNeighborsRegressor\n",
    "##ripe for feature reduction\n",
    "n = [1,2,3,4,5,6,7,8,9,10]\n",
    "w = [\"uniform\", \"distance\"]\n",
    "\n",
    "start = time.time()\n",
    "knr_params = {\"n_neighbors\": n,\n",
    "             \"weights\": w}\n",
    "gs4 = GridSearchCV(knr_model, knr_params, scoring = simple_rmse)\n",
    "gs4.fit(scaled,y)\n",
    "end = time.time()\n",
    "print end-start\n",
    "print gs4.best_estimator_\n",
    "print gs4.best_score_\n",
    "print gs4.best_params_\n",
    "\n",
    "r1 = gs4.cv_results_['mean_test_score'][np.arange(0,len(n)*2-1,2)]\n",
    "r2 = gs4.cv_results_['mean_test_score'][np.arange(1,len(n)*2,2)]\n",
    "\n",
    "plt.plot(n, -r1, label=\"uniform\")\n",
    "plt.plot(n, -r2, label=\"distance\")\n",
    "plt.ylim((.15,.3))\n",
    "plt.legend()\n",
    "plt.show();\n"
   ]
  },
  {
   "cell_type": "code",
   "execution_count": null,
   "metadata": {
    "collapsed": false
   },
   "outputs": [],
   "source": [
    "knr_best = KNR(n_neighbors = gs4.best_params_[\"n_neighbors\"], weights = gs4.best_params_[\"weights\"])\n",
    "knr_best.fit(scaled_split, train_split_labels)\n",
    "preds_dev[\"knr\"] = knr_best.predict(scaled_dev)\n",
    "knr_best.fit(scaled, train_labels)\n",
    "preds_test[\"knr\"] = knr_best.predict(scaled_test)"
   ]
  },
  {
   "cell_type": "code",
   "execution_count": null,
   "metadata": {
    "collapsed": false
   },
   "outputs": [],
   "source": [
    "##DecisionTreeRegressor\n",
    "start = time.time()\n",
    "dtr_params = {\"max_features\": [\"auto\",None, 10, 30, 50, 100],\n",
    "             \"criterion\": [\"mse\", \"mae\"]}\n",
    "gs5 = GridSearchCV(dtr_model, dtr_params, scoring = simple_rmse)\n",
    "gs5.fit(x,y)\n",
    "end = time.time()\n",
    "print end-start\n",
    "print gs5.best_estimator_\n",
    "print gs5.best_score_\n",
    "print gs5.best_params_\n",
    "print gs5.cv_results_['mean_test_score']\n",
    "\n",
    "dtr_best = DTR(max_features = gs5.best_params_['max_features'], criterion = 'mse')\n",
    "plot_it(dtr_best)"
   ]
  },
  {
   "cell_type": "code",
   "execution_count": null,
   "metadata": {
    "collapsed": true
   },
   "outputs": [],
   "source": [
    "dtr_best.fit(train_split, train_split_labels)\n",
    "preds_dev[\"dtr\"] = dtr_best.predict(dev)\n",
    "dtr_best.fit(train, train_labels)\n",
    "preds_test[\"dtr\"] = dtr_best.predict(test)"
   ]
  },
  {
   "cell_type": "code",
   "execution_count": null,
   "metadata": {
    "collapsed": false
   },
   "outputs": [],
   "source": [
    "##linear svr\n",
    "##feature reduction\n",
    "start = time.time()\n",
    "c = [1e-05,1e-04,1e-03,.01,.1,1]\n",
    "mi = [5e6]\n",
    "lsvr_params = {\"C\": c,\n",
    "              \"max_iter\": mi}\n",
    "gs6 = GridSearchCV(lsvr_model, lsvr_params, scoring = simple_rmse)\n",
    "gs6.fit(x,y)\n",
    "end = time.time()\n",
    "print end-start\n",
    "print gs6.best_estimator_\n",
    "print gs6.best_score_\n",
    "print gs6.best_params_\n",
    "\n",
    "plt.plot(np.log(c), -gs6.cv_results_['mean_test_score']);\n"
   ]
  },
  {
   "cell_type": "code",
   "execution_count": null,
   "metadata": {
    "collapsed": false
   },
   "outputs": [],
   "source": [
    "lsvr_best = SVR(kernel = 'linear', C = gs6.best_params_['C'], max_iter = 5e6)\n",
    "plot_it(lsvr_best)"
   ]
  },
  {
   "cell_type": "code",
   "execution_count": null,
   "metadata": {
    "collapsed": true
   },
   "outputs": [],
   "source": [
    "lsvr_best.fit(train_split, train_split_labels)\n",
    "preds_dev[\"lsvr\"] = lsvr_best.predict(dev)\n",
    "lsvr_best.fit(train, train_labels)\n",
    "preds_test[\"lsvr\"] = lsvr_best.predict(test)"
   ]
  },
  {
   "cell_type": "code",
   "execution_count": null,
   "metadata": {
    "collapsed": false
   },
   "outputs": [],
   "source": [
    "##poly svr\n",
    "##feature reduction\n",
    "c = [1e-05,1e-04,1e-03,.01,.1,1]\n",
    "mi = [1e6]\n",
    "g = [1e-06,1e-05,1e-04,.001]\n",
    "d = [2]\n",
    "start = time.time()\n",
    "psvr_params = {\"C\": c,\n",
    "              \"degree\": d,\n",
    "              \"max_iter\": mi,\n",
    "              \"gamma\": g}\n",
    "gs7 = GridSearchCV(psvr_model, psvr_params, scoring = simple_rmse)\n",
    "gs7.fit(x,y)\n",
    "end = time.time()\n",
    "print end-start\n",
    "print gs7.best_estimator_\n",
    "print gs7.best_score_\n",
    "print gs7.best_params_\n",
    "\n",
    "for a,val in enumerate(c):\n",
    "    plt.plot(np.log(g),-gs7.cv_results_['mean_test_score'][len(g)*a:len(g)*(a+1)], label=val)\n",
    "    plt.legend()\n",
    "plt.show;\n"
   ]
  },
  {
   "cell_type": "code",
   "execution_count": null,
   "metadata": {
    "collapsed": false
   },
   "outputs": [],
   "source": [
    "##poly svr\n",
    "##feature reduction\n",
    "c = [1e-06,1e-05,1e-04,1e-03,.01,.1,1]\n",
    "mi = [1e6]\n",
    "g = [1e-06,1e-05,1e-04,.001]\n",
    "d = [3]\n",
    "start = time.time()\n",
    "psvr_params = {\"C\": c,\n",
    "              \"degree\": d,\n",
    "              \"max_iter\": mi,\n",
    "              \"gamma\": g}\n",
    "gs7b = GridSearchCV(psvr_model, psvr_params, scoring = simple_rmse)\n",
    "gs7b.fit(x,y)\n",
    "end = time.time()\n",
    "print end-start\n",
    "print gs7b.best_estimator_\n",
    "print gs7b.best_score_\n",
    "print gs7b.best_params_\n",
    "\n",
    "for a,val in enumerate(c):\n",
    "    plt.plot(np.log(g),-gs7b.cv_results_['mean_test_score'][len(g)*a:len(g)*(a+1)], label=val)\n",
    "    plt.legend()\n",
    "plt.show;"
   ]
  },
  {
   "cell_type": "code",
   "execution_count": null,
   "metadata": {
    "collapsed": false
   },
   "outputs": [],
   "source": [
    "psvr_best = SVR(kernel = 'poly', C = gs7.best_params_['C'], degree = 2, max_iter = 1e6, gamma = gs7.best_params_['gamma'])\n",
    "psvr_best2 = SVR(kernel = 'poly', C = gs7b.best_params_['C'], degree = 3, max_iter = 1e6, gamma = gs7b.best_params_['gamma'])\n",
    "plot_it(psvr_best)"
   ]
  },
  {
   "cell_type": "code",
   "execution_count": null,
   "metadata": {
    "collapsed": false
   },
   "outputs": [],
   "source": [
    "plot_it(psvr_best2)"
   ]
  },
  {
   "cell_type": "code",
   "execution_count": null,
   "metadata": {
    "collapsed": false
   },
   "outputs": [],
   "source": [
    "plot_pca(psvr_best, 30)\n",
    "plot_pca(psvr_best2, 30)"
   ]
  },
  {
   "cell_type": "code",
   "execution_count": null,
   "metadata": {
    "collapsed": true
   },
   "outputs": [],
   "source": [
    "psvr_best.fit(train_split, train_split_labels)\n",
    "psvr_best2.fit(train_split, train_split_labels)\n",
    "preds_dev[\"psvr\"] = psvr_best.predict(dev)\n",
    "preds_dev[\"psvr2\"] = psvr_best2.predict(dev)\n",
    "psvr_best.fit(train, train_labels)\n",
    "psvr_best2.fit(train, train_labels)\n",
    "preds_test[\"psvr\"] = psvr_best.predict(test)\n",
    "preds_test[\"psvr2\"] = psvr_best2.predict(test)"
   ]
  },
  {
   "cell_type": "code",
   "execution_count": null,
   "metadata": {
    "collapsed": false
   },
   "outputs": [],
   "source": [
    "##rbf svr\n",
    "##feature reduction\n",
    "c = [1000,10000,100000]\n",
    "g = [1e-10,1e-09,1e-08, 1e-07,1e-06]\n",
    "start = time.time()\n",
    "rsvr_params = {\"C\": c,\n",
    "              \"gamma\": g}\n",
    "gs8 = GridSearchCV(rsvr_model, rsvr_params, scoring = simple_rmse)\n",
    "gs8.fit(x,y)\n",
    "end = time.time()\n",
    "print end-start\n",
    "print gs8.best_estimator_\n",
    "print gs8.best_score_\n",
    "print gs8.best_params_\n",
    "\n",
    "for b,val in enumerate(c):\n",
    "    plt.plot(np.log(g),-gs8.cv_results_['mean_test_score'][len(g)*b:len(g)*(b+1)], label=val)\n",
    "    plt.legend()\n",
    "plt.show;\n"
   ]
  },
  {
   "cell_type": "code",
   "execution_count": null,
   "metadata": {
    "collapsed": false
   },
   "outputs": [],
   "source": [
    "rsvr_best = SVR(kernel = 'rbf', C = gs8.best_params_['C'], gamma = gs8.best_params_['gamma'])\n",
    "plot_it(rsvr_best)"
   ]
  },
  {
   "cell_type": "code",
   "execution_count": null,
   "metadata": {
    "collapsed": false
   },
   "outputs": [],
   "source": [
    "plot_pca(rsvr_best, 150)"
   ]
  },
  {
   "cell_type": "code",
   "execution_count": null,
   "metadata": {
    "collapsed": true
   },
   "outputs": [],
   "source": [
    "rsvr_best.fit(train_split, train_split_labels)\n",
    "preds_dev[\"rsvr\"] = rsvr_best.predict(dev)\n",
    "rsvr_best.fit(train, train_labels)\n",
    "preds_test[\"rsvr\"] = rsvr_best.predict(test)"
   ]
  },
  {
   "cell_type": "code",
   "execution_count": null,
   "metadata": {
    "collapsed": false
   },
   "outputs": [],
   "source": [
    "##linear kernel ridge\n",
    "##feature reduction\n",
    "a = [.001,.01,.1, .25, .5, .75, 1, 1.5]\n",
    "start = time.time()\n",
    "lkr_params = {\"alpha\": a}\n",
    "gs10 = GridSearchCV(lkr_model, lkr_params, scoring = simple_rmse)\n",
    "gs10.fit(x,y)\n",
    "end = time.time()\n",
    "print end-start\n",
    "print gs10.best_estimator_\n",
    "print gs10.best_score_\n",
    "print gs10.best_params_\n",
    "\n",
    "plt.plot(a, -gs10.cv_results_['mean_test_score'])\n",
    "plt.ylim((.14,.18));\n"
   ]
  },
  {
   "cell_type": "code",
   "execution_count": null,
   "metadata": {
    "collapsed": false
   },
   "outputs": [],
   "source": [
    "lkr_best = KR(kernel = 'linear', alpha = gs10.best_params_['alpha'])\n",
    "plot_it(lkr_best)"
   ]
  },
  {
   "cell_type": "code",
   "execution_count": null,
   "metadata": {
    "collapsed": false
   },
   "outputs": [],
   "source": [
    "plot_pca(lkr_best, 200)"
   ]
  },
  {
   "cell_type": "code",
   "execution_count": null,
   "metadata": {
    "collapsed": true
   },
   "outputs": [],
   "source": [
    "lkr_best.fit(train_split, train_split_labels)\n",
    "preds_dev[\"lkr\"] = lkr_best.predict(dev)\n",
    "lkr_best.fit(train, train_labels)\n",
    "preds_test[\"lkr\"] = lkr_best.predict(test)"
   ]
  },
  {
   "cell_type": "code",
   "execution_count": null,
   "metadata": {
    "collapsed": false
   },
   "outputs": [],
   "source": [
    "##poly kernel ridge\n",
    "##feature reduction\n",
    "a = [1e-08,1e-07,1e-06,1e-05,.0001,.001,.01]\n",
    "d = [2,3]\n",
    "g = [1e-09,1e-08,1e-07,1e-06,1e-05,1e-04]\n",
    "start = time.time()\n",
    "pkr_params = {\"degree\": d,\n",
    "             \"alpha\": a,\n",
    "             \"gamma\": g}\n",
    "gs11 = GridSearchCV(pkr_model, pkr_params, scoring = simple_rmse)\n",
    "gs11.fit(x,y)\n",
    "end = time.time()\n",
    "print end-start\n",
    "print gs11.best_estimator_\n",
    "print gs11.best_score_\n",
    "print gs11.best_params_\n",
    "\n",
    "f, axarr = plt.subplots(len(a))\n",
    "for b,val2 in enumerate(a):\n",
    "    for c,val in enumerate(d):\n",
    "        axarr[b].plot(np.log(g),-gs11.cv_results_['mean_test_score'][(len(g)*c)+(len(g)*len(d))*b:(len(g)*(c+1))+(len(g)*len(d))*b], label=val)\n",
    "        axarr[b].legend()\n",
    "        axarr[b].set_ylim((.1,.5))\n",
    "        \n",
    "f.set_figheight(5 * len(a))\n",
    "f.set_figwidth(5)\n",
    "f.show;\n"
   ]
  },
  {
   "cell_type": "code",
   "execution_count": null,
   "metadata": {
    "collapsed": false
   },
   "outputs": [],
   "source": [
    "pkr_best = KR(kernel = 'poly', alpha = gs11.best_params_['alpha'], degree = gs11.best_params_['degree'], gamma = gs11.best_params_['gamma'])\n",
    "plot_it(pkr_best)"
   ]
  },
  {
   "cell_type": "code",
   "execution_count": null,
   "metadata": {
    "collapsed": false
   },
   "outputs": [],
   "source": [
    "plot_pca(pkr_best, 200)"
   ]
  },
  {
   "cell_type": "code",
   "execution_count": null,
   "metadata": {
    "collapsed": true
   },
   "outputs": [],
   "source": [
    "pkr_best.fit(train_split, train_split_labels)\n",
    "preds_dev[\"pkr\"] = pkr_best.predict(dev)\n",
    "pkr_best.fit(train, train_labels)\n",
    "preds_test[\"pkr\"] = pkr_best.predict(test)"
   ]
  },
  {
   "cell_type": "code",
   "execution_count": null,
   "metadata": {
    "collapsed": false
   },
   "outputs": [],
   "source": [
    "##rbf kernel ridge\n",
    "##feature reduction\n",
    "a = [1e-11,1e-10,1e-09,1e-08,1e-07]\n",
    "gamma = [1e-12,1e-11,1e-10,1e-09]\n",
    "start = time.time()\n",
    "rkr_params = {\"alpha\": a,\n",
    "             \"gamma\": gamma}\n",
    "gs12 = GridSearchCV(rkr_model, rkr_params, scoring = simple_rmse)\n",
    "gs12.fit(x,y)\n",
    "end = time.time()\n",
    "print end-start\n",
    "print gs12.best_estimator_\n",
    "print gs12.best_score_\n",
    "print gs12.best_params_\n",
    "\n",
    "for b,val in enumerate(a):\n",
    "    plt.plot(np.log(gamma),-gs12.cv_results_['mean_test_score'][len(gamma)*b:len(gamma)*(b+1)], label=val)\n",
    "    plt.legend()\n",
    "plt.show;\n",
    "              "
   ]
  },
  {
   "cell_type": "code",
   "execution_count": null,
   "metadata": {
    "collapsed": false
   },
   "outputs": [],
   "source": [
    "rkr_best = KR(kernel = 'rbf', alpha = gs12.best_params_['alpha'], gamma= gs12.best_params_['gamma'])\n",
    "plot_it(rkr_best)"
   ]
  },
  {
   "cell_type": "code",
   "execution_count": null,
   "metadata": {
    "collapsed": false
   },
   "outputs": [],
   "source": [
    "plot_pca(rkr_best, 250)"
   ]
  },
  {
   "cell_type": "code",
   "execution_count": null,
   "metadata": {
    "collapsed": true
   },
   "outputs": [],
   "source": [
    "rkr_best.fit(train_split, train_split_labels)\n",
    "preds_dev[\"rkr\"] = rkr_best.predict(dev)\n",
    "rkr_best.fit(train, train_labels)\n",
    "preds_test[\"rkr\"] = rkr_best.predict(test)"
   ]
  },
  {
   "cell_type": "code",
   "execution_count": null,
   "metadata": {
    "collapsed": false
   },
   "outputs": [],
   "source": [
    "##GaussianProcessRegressor\n",
    "##feature reduction\n",
    "from sklearn.gaussian_process.kernels import RationalQuadratic\n",
    "\n",
    "\n",
    "kernel = 1.0 * RationalQuadratic(length_scale=1.0, alpha=0.1)\n",
    "start = time.time()\n",
    "# Specify Gaussian Process\n",
    "gp = GPR(kernel=kernel)\n",
    "print rmse_cv(gp, x, y)\n",
    "plot_it(gp)\n",
    "    \n",
    "end = time.time()\n",
    "print end-start\n"
   ]
  },
  {
   "cell_type": "code",
   "execution_count": null,
   "metadata": {
    "collapsed": false
   },
   "outputs": [],
   "source": [
    "plot_pca(gp, 50)"
   ]
  },
  {
   "cell_type": "code",
   "execution_count": null,
   "metadata": {
    "collapsed": true
   },
   "outputs": [],
   "source": [
    "gp.fit(train_split, train_split_labels)\n",
    "preds_dev[\"gpr\"] = gp.predict(dev)\n",
    "gp.fit(train, train_labels)\n",
    "preds_test[\"gpr\"] = gp.predict(test)"
   ]
  },
  {
   "cell_type": "code",
   "execution_count": null,
   "metadata": {
    "collapsed": true
   },
   "outputs": [],
   "source": [
    "##output results\n",
    "preds_dev.to_csv('data/nl_out_dev.csv',index=False)\n",
    "preds_test.to_csv('data/nl_out_test.csv',index=False)"
   ]
  }
 ],
 "metadata": {
  "anaconda-cloud": {},
  "kernelspec": {
   "display_name": "Python [default]",
   "language": "python",
   "name": "python2"
  },
  "language_info": {
   "codemirror_mode": {
    "name": "ipython",
    "version": 2
   },
   "file_extension": ".py",
   "mimetype": "text/x-python",
   "name": "python",
   "nbconvert_exporter": "python",
   "pygments_lexer": "ipython2",
   "version": "2.7.12"
  }
 },
 "nbformat": 4,
 "nbformat_minor": 1
}
