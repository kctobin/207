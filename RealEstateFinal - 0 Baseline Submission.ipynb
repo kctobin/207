{
 "cells": [
  {
   "cell_type": "markdown",
   "metadata": {},
   "source": [
    "# W207-Spring 2017: Final Project :: Baseline Submission\n",
    "### Danish Iqbal, KC Tobin, Jason Vantomme\n",
    "\n",
    "___________\n",
    "\n",
    "\n",
    "Our team (Danish Iqbal, KC Tobin, Jason Vantomme) chose to work through the Kaggle \"House Prices: Advanced Regression Techniques\" competition @ https://www.kaggle.com/c/house-prices-advanced-regression-techniques.\n",
    "\n",
    "This first notebook represented our mid-term upload which represents nothing other than an ability to load the data, get it into a model and output some kind of prediction so that we could test through the entire Kaggle workflow.\n",
    "\n",
    "The output of this simple test scored a surprisingly decent 0.20785 Kaggle Score (RMSLE) and ranked us at 1852 out of 2061 at that time.  (Ranking changes over time.)"
   ]
  },
  {
   "cell_type": "code",
   "execution_count": 1,
   "metadata": {},
   "outputs": [
    {
     "name": "stderr",
     "output_type": "stream",
     "text": [
      "//anaconda/lib/python2.7/site-packages/matplotlib/font_manager.py:273: UserWarning: Matplotlib is building the font cache using fc-list. This may take a moment.\n",
      "  warnings.warn('Matplotlib is building the font cache using fc-list. This may take a moment.')\n"
     ]
    }
   ],
   "source": [
    "# This tells matplotlib not to try opening a new window for each plot.\n",
    "%matplotlib inline\n",
    "\n",
    "import datetime\n",
    "import pandas as pd\n",
    "import numpy as np\n",
    "import sklearn\n",
    "from sklearn.preprocessing import PolynomialFeatures\n",
    "from sklearn.linear_model import LinearRegression, Ridge\n",
    "from sklearn.pipeline import Pipeline\n",
    "from sklearn import linear_model as lm\n",
    "from sklearn import preprocessing\n",
    "from sklearn import metrics\n",
    "import matplotlib.pyplot as plt"
   ]
  },
  {
   "cell_type": "code",
   "execution_count": 2,
   "metadata": {
    "collapsed": true,
    "scrolled": true
   },
   "outputs": [],
   "source": [
    "#https://www.kaggle.com/c/house-prices-advanced-regression-techniques\n",
    "\n",
    "original_train_data = pd.read_csv('data/train.csv',delimiter=',',header=0)\n",
    "original_test_data = pd.read_csv('data/test.csv',delimiter=',',header=0)\n",
    "\n",
    "# train data; convert categoricals to integers\n",
    "obj_columns = original_train_data.select_dtypes(['object']).columns\n",
    "original_train_data[obj_columns] = original_train_data[obj_columns].apply(lambda x: x.astype('category').cat.codes)\n",
    "original_train_data = original_train_data.fillna(value=0)\n",
    "\n",
    "# test data; convert categoricals to integers\n",
    "obj_columns = original_test_data.select_dtypes(['object']).columns\n",
    "original_test_data[obj_columns] = original_test_data[obj_columns].apply(lambda x: x.astype('category').cat.codes)\n",
    "original_test_data = original_test_data.fillna(value=0)\n",
    "\n",
    "testdev_split = (len(original_train_data))/2\n",
    "\n",
    "train_data = original_train_data.copy()[testdev_split:]\n",
    "train_labels = train_data[\"SalePrice\"].copy()\n",
    "train_data = train_data.drop( [\"SalePrice\"], axis=1 )\n",
    "\n",
    "dev_data = original_train_data.copy()[:testdev_split]\n",
    "dev_labels = dev_data[\"SalePrice\"].copy()\n",
    "dev_data = dev_data.drop( [\"SalePrice\"], axis=1 )\n",
    "\n",
    "test_data = original_test_data.copy()\n"
   ]
  },
  {
   "cell_type": "code",
   "execution_count": 3,
   "metadata": {},
   "outputs": [
    {
     "name": "stdout",
     "output_type": "stream",
     "text": [
      "Coefficients: [ -6.89587912e+00  -5.99661013e+01  -2.41192392e+03  -4.23986755e+01\n",
      "   6.77061818e-01   5.57370104e+04  -2.08138387e+02  -8.85413134e+02\n",
      "   2.79019372e+03  -5.61971662e+04   8.68934032e+02   5.30221730e+03\n",
      "   1.45333531e+02  -7.80246717e+02  -3.94473526e+02  -2.29138233e+03\n",
      "  -3.13660938e+02   8.59990554e+03   6.49627908e+03   2.06301301e+02\n",
      "  -7.70077526e+01   3.16546314e+03   1.54903739e+03  -1.79375672e+03\n",
      "   1.07009605e+03   5.06887623e+03   4.75995224e+01  -1.17688078e+04\n",
      "   1.40819190e+02   9.00908618e+02  -9.80774865e+03   1.53767100e+03\n",
      "  -3.26586565e+03  -4.50351249e+00   4.69332189e+00   4.37033705e+03\n",
      "   1.29789854e+01  -9.66484735e-01   1.67058226e+01  -3.25926025e+03\n",
      "  -2.25725808e+02   1.88022852e+03  -3.63269094e+02   1.91675787e+01\n",
      "   2.58934720e+01  -3.01539700e+01   1.49070803e+01   8.37170054e+03\n",
      "   8.01412362e+00   5.29951182e+03   7.60630357e+02  -2.86512498e+03\n",
      "  -2.23342755e+04  -7.49337597e+03   3.61198147e+03   3.26305904e+03\n",
      "   6.77143817e+03  -7.59356197e+02   4.01390394e+02  -3.22197439e+00\n",
      "  -2.67772359e+03   9.54625747e+03   1.75684117e+00  -1.61827560e+01\n",
      "  -2.60220038e+01   1.78638414e+03   1.90945793e+01   5.44033141e+00\n",
      "   1.70822010e+01   5.97984299e+01   5.21773695e+01   1.00163653e+03\n",
      "  -2.60534732e+05   4.53526827e+01  -1.01181882e+03  -3.88941821e+00\n",
      "   2.25027607e+02  -3.43033687e+02  -1.13917346e+03   2.55333567e+03]\n",
      "R^2: 0.84\n",
      "0.838263713916\n",
      "0.841588836723\n"
     ]
    }
   ],
   "source": [
    "reg = LinearRegression()\n",
    "reg.fit(train_data, train_labels)\n",
    "print \"Coefficients: \" + str(reg.coef_)\n",
    "print('R^2: %1.2f' % reg.score(dev_data, dev_labels))\n",
    "\n",
    "# various score measures\n",
    "pred_labels = reg.predict(dev_data)\n",
    "\n",
    "# r2_score should be the same as reg.score\n",
    "print metrics.r2_score(dev_labels,pred_labels, multioutput='uniform_average')\n",
    "print metrics.explained_variance_score(dev_labels,pred_labels, multioutput='uniform_average')\n"
   ]
  },
  {
   "cell_type": "code",
   "execution_count": 4,
   "metadata": {},
   "outputs": [
    {
     "name": "stdout",
     "output_type": "stream",
     "text": [
      "     Id  SalePrice\n",
      "0  1461     108495\n",
      "1  1462     108507\n",
      "2  1463     173069\n",
      "3  1464     185982\n",
      "4  1465     180404\n",
      "5  1466     173719\n",
      "6  1467     185438\n",
      "7  1468     167657\n",
      "8  1469     188929\n",
      "9  1470     105815\n"
     ]
    }
   ],
   "source": [
    "# predict test labels\n",
    "pred_labels = reg.predict(test_data)\n",
    "pred_labels = pred_labels.astype(int)\n",
    "\n",
    "# output predictions:  id, price\n",
    "sub = pd.DataFrame(test_data[\"Id\"])\n",
    "sub[\"SalePrice\"] = pred_labels\n",
    "\n",
    "print sub[:10]\n",
    "sub.to_csv(path_or_buf=\"submission_march_15.csv\",index=False)"
   ]
  },
  {
   "cell_type": "code",
   "execution_count": null,
   "metadata": {
    "collapsed": true
   },
   "outputs": [],
   "source": []
  }
 ],
 "metadata": {
  "anaconda-cloud": {},
  "kernelspec": {
   "display_name": "Python [default]",
   "language": "python",
   "name": "python2"
  },
  "language_info": {
   "codemirror_mode": {
    "name": "ipython",
    "version": 2
   },
   "file_extension": ".py",
   "mimetype": "text/x-python",
   "name": "python",
   "nbconvert_exporter": "python",
   "pygments_lexer": "ipython2",
   "version": "2.7.12"
  }
 },
 "nbformat": 4,
 "nbformat_minor": 1
}
