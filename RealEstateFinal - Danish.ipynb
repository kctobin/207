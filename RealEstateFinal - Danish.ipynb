{
 "cells": [
  {
   "cell_type": "code",
   "execution_count": 12,
   "metadata": {
    "collapsed": false
   },
   "outputs": [],
   "source": [
    "# This tells matplotlib not to try opening a new window for each plot.\n",
    "%matplotlib inline\n",
    "\n",
    "import datetime\n",
    "import pandas as pd\n",
    "import numpy as np\n",
    "import sklearn\n",
    "from sklearn.preprocessing import PolynomialFeatures\n",
    "from sklearn.linear_model import LinearRegression, Ridge\n",
    "from sklearn.pipeline import Pipeline\n",
    "from sklearn import linear_model as lm\n",
    "from sklearn import preprocessing\n",
    "from sklearn import metrics\n",
    "import matplotlib.pyplot as plt"
   ]
  },
  {
   "cell_type": "code",
   "execution_count": 24,
   "metadata": {
    "collapsed": false,
    "scrolled": true
   },
   "outputs": [
    {
     "name": "stdout",
     "output_type": "stream",
     "text": [
      "                Id  MSSubClass    MSZoning  LotFrontage       LotArea  \\\n",
      "count   730.000000  730.000000  730.000000   730.000000    730.000000   \n",
      "mean   1095.500000   56.547945    3.020548    57.169863  10092.143836   \n",
      "std     210.877136   41.198619    0.600288    36.361524   5530.730034   \n",
      "min     731.000000   20.000000    0.000000     0.000000   1300.000000   \n",
      "25%     913.250000   20.000000    3.000000    40.000000   7599.250000   \n",
      "50%    1095.500000   50.000000    3.000000    61.000000   9484.500000   \n",
      "75%    1277.750000   70.000000    3.000000    78.000000  11509.000000   \n",
      "max    1460.000000  190.000000    4.000000   313.000000  63887.000000   \n",
      "\n",
      "           Street       Alley    LotShape  LandContour   Utilities  \\\n",
      "count  730.000000  730.000000  730.000000   730.000000  730.000000   \n",
      "mean     0.995890   -0.913699    1.964384     2.780822    0.001370   \n",
      "std      0.064018    0.365830    1.405005     0.705584    0.037012   \n",
      "min      0.000000   -1.000000    0.000000     0.000000    0.000000   \n",
      "25%      1.000000   -1.000000    0.000000     3.000000    0.000000   \n",
      "50%      1.000000   -1.000000    3.000000     3.000000    0.000000   \n",
      "75%      1.000000   -1.000000    3.000000     3.000000    0.000000   \n",
      "max      1.000000    1.000000    3.000000     3.000000    1.000000   \n",
      "\n",
      "           ...        ScreenPorch    PoolArea      PoolQC       Fence  \\\n",
      "count      ...         730.000000  730.000000  730.000000  730.000000   \n",
      "mean       ...          15.142466    4.816438   -0.980822   -0.541096   \n",
      "std        ...          56.003419   53.507629    0.221392    1.009738   \n",
      "min        ...           0.000000    0.000000   -1.000000   -1.000000   \n",
      "25%        ...           0.000000    0.000000   -1.000000   -1.000000   \n",
      "50%        ...           0.000000    0.000000   -1.000000   -1.000000   \n",
      "75%        ...           0.000000    0.000000   -1.000000   -1.000000   \n",
      "max        ...         480.000000  738.000000    2.000000    3.000000   \n",
      "\n",
      "       MiscFeature      MiscVal      MoSold       YrSold    SaleType  \\\n",
      "count   730.000000   730.000000  730.000000   730.000000  730.000000   \n",
      "mean     -0.895890    37.306849    6.294521  2007.824658    7.534247   \n",
      "std       0.549457   355.728934    2.661435     1.338240    1.542113   \n",
      "min      -1.000000     0.000000    1.000000  2006.000000    0.000000   \n",
      "25%      -1.000000     0.000000    5.000000  2007.000000    8.000000   \n",
      "50%      -1.000000     0.000000    6.000000  2008.000000    8.000000   \n",
      "75%      -1.000000     0.000000    8.000000  2009.000000    8.000000   \n",
      "max       3.000000  8300.000000   12.000000  2010.000000    8.000000   \n",
      "\n",
      "       SaleCondition  \n",
      "count     730.000000  \n",
      "mean        3.758904  \n",
      "std         1.105893  \n",
      "min         0.000000  \n",
      "25%         4.000000  \n",
      "50%         4.000000  \n",
      "75%         4.000000  \n",
      "max         5.000000  \n",
      "\n",
      "[8 rows x 80 columns]\n"
     ]
    },
    {
     "data": {
      "text/plain": [
       "<matplotlib.image.AxesImage at 0x11d6315d0>"
      ]
     },
     "execution_count": 24,
     "metadata": {},
     "output_type": "execute_result"
    },
    {
     "data": {
      "image/png": "[encoded data removed]",
      "text/plain": [
       "<matplotlib.figure.Figure at 0x114aa9ad0>"
      ]
     },
     "metadata": {},
     "output_type": "display_data"
    }
   ],
   "source": [
    "#https://www.kaggle.com/c/house-prices-advanced-regression-techniques\n",
    "\n",
    "original_train_data = pd.read_csv('data/train.csv',delimiter=',',header=0)\n",
    "original_test_data = pd.read_csv('data/test.csv',delimiter=',',header=0)\n",
    "\n",
    "# train data; convert categoricals to integers\n",
    "obj_columns = original_train_data.select_dtypes(['object']).columns\n",
    "original_train_data[obj_columns] = original_train_data[obj_columns].apply(lambda x: x.astype('category').cat.codes)\n",
    "original_train_data = original_train_data.fillna(value=0)\n",
    "\n",
    "# test data; convert categoricals to integers\n",
    "obj_columns = original_test_data.select_dtypes(['object']).columns\n",
    "original_test_data[obj_columns] = original_test_data[obj_columns].apply(lambda x: x.astype('category').cat.codes)\n",
    "original_test_data = original_test_data.fillna(value=0)\n",
    "\n",
    "testdev_split = (len(original_train_data))/2\n",
    "\n",
    "train_data = original_train_data.copy()[testdev_split:]\n",
    "train_labels = train_data[\"SalePrice\"].copy()\n",
    "train_data = train_data.drop( [\"SalePrice\"], axis=1 )\n",
    "\n",
    "dev_data = original_train_data.copy()[:testdev_split]\n",
    "dev_labels = dev_data[\"SalePrice\"].copy()\n",
    "dev_data = dev_data.drop( [\"SalePrice\"], axis=1 )\n",
    "\n",
    "test_data = original_test_data.copy()\n",
    "\n",
    "# check data quality\n",
    "print train_data.describe()\n",
    "\n",
    "# check for correlation between features\n",
    "corr = train_data.corr()\n",
    "plt.matshow(corr, cmap=plt.cm.Greys)"
   ]
  },
  {
   "cell_type": "markdown",
   "metadata": {},
   "source": [
    "#IDEAS\n",
    "\n",
    ": Dlb-check category conversion...NaN = 0 after, but before?; address?\n",
    ": Check distributions; adjust skew if necessary\n",
    ": Normalization/scaling\n"
   ]
  },
  {
   "cell_type": "code",
   "execution_count": 35,
   "metadata": {
    "collapsed": false
   },
   "outputs": [
    {
     "name": "stdout",
     "output_type": "stream",
     "text": [
      "Coefficients: [ -6.89587912e+00  -5.99661013e+01  -2.41192392e+03  -4.23986755e+01\n",
      "   6.77061818e-01   5.57370104e+04  -2.08138387e+02  -8.85413134e+02\n",
      "   2.79019372e+03  -5.61971662e+04   8.68934032e+02   5.30221730e+03\n",
      "   1.45333531e+02  -7.80246717e+02  -3.94473526e+02  -2.29138233e+03\n",
      "  -3.13660938e+02   8.59990554e+03   6.49627908e+03   2.06301301e+02\n",
      "  -7.70077526e+01   3.16546314e+03   1.54903739e+03  -1.79375672e+03\n",
      "   1.07009605e+03   5.06887623e+03   4.75995224e+01  -1.17688078e+04\n",
      "   1.40819190e+02   9.00908618e+02  -9.80774865e+03   1.53767100e+03\n",
      "  -3.26586565e+03  -4.50351249e+00   4.69332189e+00   4.37033705e+03\n",
      "   1.29789854e+01  -9.66484735e-01   1.67058226e+01  -3.25926025e+03\n",
      "  -2.25725808e+02   1.88022852e+03  -3.63269094e+02   1.91675787e+01\n",
      "   2.58934720e+01  -3.01539700e+01   1.49070803e+01   8.37170054e+03\n",
      "   8.01412362e+00   5.29951182e+03   7.60630357e+02  -2.86512498e+03\n",
      "  -2.23342755e+04  -7.49337597e+03   3.61198147e+03   3.26305904e+03\n",
      "   6.77143817e+03  -7.59356197e+02   4.01390394e+02  -3.22197439e+00\n",
      "  -2.67772359e+03   9.54625747e+03   1.75684117e+00  -1.61827560e+01\n",
      "  -2.60220038e+01   1.78638414e+03   1.90945793e+01   5.44033141e+00\n",
      "   1.70822010e+01   5.97984299e+01   5.21773695e+01   1.00163653e+03\n",
      "  -2.60534732e+05   4.53526827e+01  -1.01181882e+03  -3.88941821e+00\n",
      "   2.25027607e+02  -3.43033687e+02  -1.13917346e+03   2.55333567e+03]\n",
      "R^2: 0.84\n",
      "0.838263713916\n",
      "0.841588836723\n"
     ]
    }
   ],
   "source": [
    "reg = LinearRegression()\n",
    "reg.fit(train_data, train_labels)\n",
    "print \"Coefficients: \" + str(reg.coef_)\n",
    "print('R^2: %1.2f' % reg.score(dev_data, dev_labels))\n",
    "\n",
    "# various score measures\n",
    "pred_labels = reg.predict(dev_data)\n",
    "\n",
    "# r2_score should be the same as reg.score\n",
    "print metrics.r2_score(dev_labels,pred_labels, multioutput='uniform_average')\n",
    "print metrics.explained_variance_score(dev_labels,pred_labels, multioutput='uniform_average')"
   ]
  },
  {
   "cell_type": "code",
   "execution_count": null,
   "metadata": {
    "collapsed": true
   },
   "outputs": [],
   "source": [
    "\n"
   ]
  }
 ],
 "metadata": {
  "anaconda-cloud": {},
  "kernelspec": {
   "display_name": "Python [default]",
   "language": "python",
   "name": "python2"
  },
  "language_info": {
   "codemirror_mode": {
    "name": "ipython",
    "version": 2
   },
   "file_extension": ".py",
   "mimetype": "text/x-python",
   "name": "python",
   "nbconvert_exporter": "python",
   "pygments_lexer": "ipython2",
   "version": "2.7.12"
  }
 },
 "nbformat": 4,
 "nbformat_minor": 1
}
