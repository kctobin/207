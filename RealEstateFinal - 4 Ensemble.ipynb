{
 "cells": [
  {
   "cell_type": "code",
   "execution_count": 177,
   "metadata": {
    "collapsed": true
   },
   "outputs": [],
   "source": [
    "%matplotlib inline\n",
    "\n",
    "import datetime\n",
    "import pandas as pd\n",
    "import numpy as np\n",
    "import sklearn\n",
    "import matplotlib.pyplot as plt\n",
    "from sklearn.ensemble import GradientBoostingRegressor as GBR\n",
    "from sklearn.model_selection import cross_val_score, GridSearchCV\n",
    "from sklearn.metrics import mean_squared_error\n",
    "from sklearn.model_selection import train_test_split\n",
    "from sklearn.decomposition import PCA\n",
    "import time"
   ]
  },
  {
   "cell_type": "code",
   "execution_count": 178,
   "metadata": {
    "collapsed": true
   },
   "outputs": [],
   "source": [
    "##helper methods\n",
    "def simple_rmse(model, X, Y):\n",
    "    y_pred = model.predict(X)\n",
    "    rmse = -np.sqrt(mean_squared_error(y_pred, Y))\n",
    "    return rmse\n",
    "\n",
    "def rmse_cv(model, X_train, y):\n",
    "    rmse= np.sqrt(-cross_val_score(model, X_train, y, scoring=\"neg_mean_squared_error\", cv = 5))\n",
    "    return(rmse)\n",
    "\n",
    "def plot_it(model):\n",
    "    model.fit(tp, tpl)\n",
    "    preds = model.predict(dp)\n",
    "    \n",
    "    deltas = preds-dpl\n",
    "    print \"mean: %3.4f\" %np.mean(deltas)\n",
    "    print \"standard deviation: %3.4f\" %np.std(deltas)\n",
    "    \n",
    "    plt.scatter(dpl,preds)\n",
    "    plt.xlim((10,14.0))\n",
    "    plt.ylim((10,14.0))\n",
    "    plt.plot(range(10,15), range(10,15));\n",
    "    \n",
    "def plot_pca(model, n):\n",
    "    scores = []\n",
    "    pca = PCA(n)\n",
    "    pca_train = pca.fit_transform(train_split)\n",
    "    pca_dev = pca.transform(dev)\n",
    "    for i in range(n):\n",
    "        model.fit(pca_train[:,0:i+1], train_split_labels)\n",
    "        scores.append(-simple_rmse(model, pca_dev[:,0:i+1], dev_labels))\n",
    "    \n",
    "    plt.scatter(range(1,n+1),scores)\n",
    "    plt.show()"
   ]
  },
  {
   "cell_type": "code",
   "execution_count": 179,
   "metadata": {
    "collapsed": false
   },
   "outputs": [],
   "source": [
    "##read in data\n",
    "train = pd.read_csv('data/train_fe.csv',delimiter=',',header=0)\n",
    "train = train.drop( [\"SalePrice\"], axis=1 )\n",
    "train = train.drop(['Unnamed: 0'],axis=1)\n",
    "train_split, dev, train_split_labels, dev_labels = train_test_split(train,train_labels, test_size = .5, random_state=207)\n",
    "test = pd.read_csv('data/test_fe.csv',delimiter=',',header=0)\n",
    "test = test.drop(['Unnamed: 0'],axis=1)\n",
    "\n",
    "##get linear predictions\n",
    "linear_dev_preds = pd.read_csv('data/linear_out_dev.csv',delimiter=',',header=0)\n",
    "preds_labels = linear_dev_preds[\"Actual\"].copy()\n",
    "linear_dev_preds = linear_dev_preds.drop(['Actual'],axis=1)\n",
    "linear_dev_preds = linear_dev_preds.drop(['Unnamed: 0'],axis=1)\n",
    "linear_test_preds = pd.read_csv('data/linear_out_test.csv',delimiter=',',header=0)\n",
    "linear_test_preds = linear_test_preds.drop(['Unnamed: 0'],axis=1)\n",
    "\n",
    "##get nonlinear predictions\n",
    "nl_dev_preds = pd.read_csv('data/nl_out_dev.csv',delimiter=',',header=0)\n",
    "nl_dev_preds = nl_dev_preds.drop(['Actual'],axis=1)\n",
    "nl_test_preds = pd.read_csv('data/nl_out_test.csv',delimiter=',',header=0)\n",
    "\n",
    "# ##combine\n",
    "# train_x = pd.concat([nl_dev_preds, linear_dev_preds], axis=1)\n",
    "# test_x = pd.concat([nl_test_preds, linear_test_preds], axis=1)\n",
    "# print train_x.shape\n",
    "# print test_x.shape\n",
    "\n",
    "train_x = nl_dev_preds\n",
    "train_y = preds_labels\n",
    "test_x = nl_test_preds\n",
    "\n",
    "##split linear predictions\n",
    "tp, dp, tpl, dpl = train_test_split(train_x,preds_labels, test_size = .8, random_state=207)"
   ]
  },
  {
   "cell_type": "code",
   "execution_count": 180,
   "metadata": {
    "collapsed": false
   },
   "outputs": [
    {
     "data": {
      "image/png": "[encoded data removed]",
      "text/plain": [
       "<matplotlib.figure.Figure at 0xe9999b0>"
      ]
     },
     "metadata": {},
     "output_type": "display_data"
    }
   ],
   "source": [
    "##pca\n",
    "pca_test = PCA(10)\n",
    "pca_x = pca_test.fit_transform(dev)\n",
    "pca_x2 = pca_test.transform(test)\n",
    "\n",
    "var = []\n",
    "for a in range(10):\n",
    "    var.append(np.sum(pca_test.explained_variance_ratio_[:a+1]))\n",
    "    \n",
    "plt.plot(range(1,11), var)\n",
    "plt.ylim((0,1.1));"
   ]
  },
  {
   "cell_type": "code",
   "execution_count": 181,
   "metadata": {
    "collapsed": false
   },
   "outputs": [],
   "source": [
    "##combine pca and predictions\n",
    "pca_x = pd.DataFrame(pca_x)\n",
    "pca_x2 = pd.DataFrame(pca_x2)\n",
    "comb = pd.concat([train_x, pca_x], axis=1)\n",
    "comb_test = pd.concat([test_x, pca_x2], axis=1)\n",
    "comb2 = pd.concat([train_x, dev.reset_index()], axis=1)\n",
    "comb2 = comb2.drop(\"index\", axis=1)\n",
    "comb2_test = pd.concat([test_x, test], axis=1)"
   ]
  },
  {
   "cell_type": "code",
   "execution_count": 182,
   "metadata": {
    "collapsed": false
   },
   "outputs": [
    {
     "name": "stdout",
     "output_type": "stream",
     "text": [
      "200.700999975\n",
      "GradientBoostingRegressor(alpha=0.9, criterion='friedman_mse', init=None,\n",
      "             learning_rate=0.1, loss='lad', max_depth=3,\n",
      "             max_features='auto', max_leaf_nodes=None,\n",
      "             min_impurity_split=1e-07, min_samples_leaf=1,\n",
      "             min_samples_split=2, min_weight_fraction_leaf=0.0,\n",
      "             n_estimators=1000, presort='auto', random_state=None,\n",
      "             subsample=1.0, verbose=0, warm_start=False)\n",
      "-0.125942304193\n",
      "{'max_features': 'auto', 'loss': 'lad', 'learning_rate': 0.1, 'n_estimators': 1000, 'max_depth': 3}\n",
      "({'max_features': 'auto', 'loss': 'ls', 'learning_rate': 0.001, 'n_estimators': 200, 'max_depth': 1}, {'max_features': 'auto', 'loss': 'ls', 'learning_rate': 0.001, 'n_estimators': 300, 'max_depth': 1}, {'max_features': 'auto', 'loss': 'ls', 'learning_rate': 0.001, 'n_estimators': 400, 'max_depth': 1}, {'max_features': 'auto', 'loss': 'ls', 'learning_rate': 0.001, 'n_estimators': 500, 'max_depth': 1}, {'max_features': 'auto', 'loss': 'ls', 'learning_rate': 0.001, 'n_estimators': 1000, 'max_depth': 1}, {'max_features': 'auto', 'loss': 'ls', 'learning_rate': 0.001, 'n_estimators': 1500, 'max_depth': 1}, {'max_features': 'auto', 'loss': 'ls', 'learning_rate': 0.001, 'n_estimators': 200, 'max_depth': 2}, {'max_features': 'auto', 'loss': 'ls', 'learning_rate': 0.001, 'n_estimators': 300, 'max_depth': 2}, {'max_features': 'auto', 'loss': 'ls', 'learning_rate': 0.001, 'n_estimators': 400, 'max_depth': 2}, {'max_features': 'auto', 'loss': 'ls', 'learning_rate': 0.001, 'n_estimators': 500, 'max_depth': 2}, {'max_features': 'auto', 'loss': 'ls', 'learning_rate': 0.001, 'n_estimators': 1000, 'max_depth': 2}, {'max_features': 'auto', 'loss': 'ls', 'learning_rate': 0.001, 'n_estimators': 1500, 'max_depth': 2}, {'max_features': 'auto', 'loss': 'ls', 'learning_rate': 0.001, 'n_estimators': 200, 'max_depth': 3}, {'max_features': 'auto', 'loss': 'ls', 'learning_rate': 0.001, 'n_estimators': 300, 'max_depth': 3}, {'max_features': 'auto', 'loss': 'ls', 'learning_rate': 0.001, 'n_estimators': 400, 'max_depth': 3}, {'max_features': 'auto', 'loss': 'ls', 'learning_rate': 0.001, 'n_estimators': 500, 'max_depth': 3}, {'max_features': 'auto', 'loss': 'ls', 'learning_rate': 0.001, 'n_estimators': 1000, 'max_depth': 3}, {'max_features': 'auto', 'loss': 'ls', 'learning_rate': 0.001, 'n_estimators': 1500, 'max_depth': 3}, {'max_features': 'auto', 'loss': 'lad', 'learning_rate': 0.001, 'n_estimators': 200, 'max_depth': 1}, {'max_features': 'auto', 'loss': 'lad', 'learning_rate': 0.001, 'n_estimators': 300, 'max_depth': 1}, {'max_features': 'auto', 'loss': 'lad', 'learning_rate': 0.001, 'n_estimators': 400, 'max_depth': 1}, {'max_features': 'auto', 'loss': 'lad', 'learning_rate': 0.001, 'n_estimators': 500, 'max_depth': 1}, {'max_features': 'auto', 'loss': 'lad', 'learning_rate': 0.001, 'n_estimators': 1000, 'max_depth': 1}, {'max_features': 'auto', 'loss': 'lad', 'learning_rate': 0.001, 'n_estimators': 1500, 'max_depth': 1}, {'max_features': 'auto', 'loss': 'lad', 'learning_rate': 0.001, 'n_estimators': 200, 'max_depth': 2}, {'max_features': 'auto', 'loss': 'lad', 'learning_rate': 0.001, 'n_estimators': 300, 'max_depth': 2}, {'max_features': 'auto', 'loss': 'lad', 'learning_rate': 0.001, 'n_estimators': 400, 'max_depth': 2}, {'max_features': 'auto', 'loss': 'lad', 'learning_rate': 0.001, 'n_estimators': 500, 'max_depth': 2}, {'max_features': 'auto', 'loss': 'lad', 'learning_rate': 0.001, 'n_estimators': 1000, 'max_depth': 2}, {'max_features': 'auto', 'loss': 'lad', 'learning_rate': 0.001, 'n_estimators': 1500, 'max_depth': 2}, {'max_features': 'auto', 'loss': 'lad', 'learning_rate': 0.001, 'n_estimators': 200, 'max_depth': 3}, {'max_features': 'auto', 'loss': 'lad', 'learning_rate': 0.001, 'n_estimators': 300, 'max_depth': 3}, {'max_features': 'auto', 'loss': 'lad', 'learning_rate': 0.001, 'n_estimators': 400, 'max_depth': 3}, {'max_features': 'auto', 'loss': 'lad', 'learning_rate': 0.001, 'n_estimators': 500, 'max_depth': 3}, {'max_features': 'auto', 'loss': 'lad', 'learning_rate': 0.001, 'n_estimators': 1000, 'max_depth': 3}, {'max_features': 'auto', 'loss': 'lad', 'learning_rate': 0.001, 'n_estimators': 1500, 'max_depth': 3}, {'max_features': 'auto', 'loss': 'huber', 'learning_rate': 0.001, 'n_estimators': 200, 'max_depth': 1}, {'max_features': 'auto', 'loss': 'huber', 'learning_rate': 0.001, 'n_estimators': 300, 'max_depth': 1}, {'max_features': 'auto', 'loss': 'huber', 'learning_rate': 0.001, 'n_estimators': 400, 'max_depth': 1}, {'max_features': 'auto', 'loss': 'huber', 'learning_rate': 0.001, 'n_estimators': 500, 'max_depth': 1}, {'max_features': 'auto', 'loss': 'huber', 'learning_rate': 0.001, 'n_estimators': 1000, 'max_depth': 1}, {'max_features': 'auto', 'loss': 'huber', 'learning_rate': 0.001, 'n_estimators': 1500, 'max_depth': 1}, {'max_features': 'auto', 'loss': 'huber', 'learning_rate': 0.001, 'n_estimators': 200, 'max_depth': 2}, {'max_features': 'auto', 'loss': 'huber', 'learning_rate': 0.001, 'n_estimators': 300, 'max_depth': 2}, {'max_features': 'auto', 'loss': 'huber', 'learning_rate': 0.001, 'n_estimators': 400, 'max_depth': 2}, {'max_features': 'auto', 'loss': 'huber', 'learning_rate': 0.001, 'n_estimators': 500, 'max_depth': 2}, {'max_features': 'auto', 'loss': 'huber', 'learning_rate': 0.001, 'n_estimators': 1000, 'max_depth': 2}, {'max_features': 'auto', 'loss': 'huber', 'learning_rate': 0.001, 'n_estimators': 1500, 'max_depth': 2}, {'max_features': 'auto', 'loss': 'huber', 'learning_rate': 0.001, 'n_estimators': 200, 'max_depth': 3}, {'max_features': 'auto', 'loss': 'huber', 'learning_rate': 0.001, 'n_estimators': 300, 'max_depth': 3}, {'max_features': 'auto', 'loss': 'huber', 'learning_rate': 0.001, 'n_estimators': 400, 'max_depth': 3}, {'max_features': 'auto', 'loss': 'huber', 'learning_rate': 0.001, 'n_estimators': 500, 'max_depth': 3}, {'max_features': 'auto', 'loss': 'huber', 'learning_rate': 0.001, 'n_estimators': 1000, 'max_depth': 3}, {'max_features': 'auto', 'loss': 'huber', 'learning_rate': 0.001, 'n_estimators': 1500, 'max_depth': 3}, {'max_features': 'auto', 'loss': 'ls', 'learning_rate': 0.01, 'n_estimators': 200, 'max_depth': 1}, {'max_features': 'auto', 'loss': 'ls', 'learning_rate': 0.01, 'n_estimators': 300, 'max_depth': 1}, {'max_features': 'auto', 'loss': 'ls', 'learning_rate': 0.01, 'n_estimators': 400, 'max_depth': 1}, {'max_features': 'auto', 'loss': 'ls', 'learning_rate': 0.01, 'n_estimators': 500, 'max_depth': 1}, {'max_features': 'auto', 'loss': 'ls', 'learning_rate': 0.01, 'n_estimators': 1000, 'max_depth': 1}, {'max_features': 'auto', 'loss': 'ls', 'learning_rate': 0.01, 'n_estimators': 1500, 'max_depth': 1}, {'max_features': 'auto', 'loss': 'ls', 'learning_rate': 0.01, 'n_estimators': 200, 'max_depth': 2}, {'max_features': 'auto', 'loss': 'ls', 'learning_rate': 0.01, 'n_estimators': 300, 'max_depth': 2}, {'max_features': 'auto', 'loss': 'ls', 'learning_rate': 0.01, 'n_estimators': 400, 'max_depth': 2}, {'max_features': 'auto', 'loss': 'ls', 'learning_rate': 0.01, 'n_estimators': 500, 'max_depth': 2}, {'max_features': 'auto', 'loss': 'ls', 'learning_rate': 0.01, 'n_estimators': 1000, 'max_depth': 2}, {'max_features': 'auto', 'loss': 'ls', 'learning_rate': 0.01, 'n_estimators': 1500, 'max_depth': 2}, {'max_features': 'auto', 'loss': 'ls', 'learning_rate': 0.01, 'n_estimators': 200, 'max_depth': 3}, {'max_features': 'auto', 'loss': 'ls', 'learning_rate': 0.01, 'n_estimators': 300, 'max_depth': 3}, {'max_features': 'auto', 'loss': 'ls', 'learning_rate': 0.01, 'n_estimators': 400, 'max_depth': 3}, {'max_features': 'auto', 'loss': 'ls', 'learning_rate': 0.01, 'n_estimators': 500, 'max_depth': 3}, {'max_features': 'auto', 'loss': 'ls', 'learning_rate': 0.01, 'n_estimators': 1000, 'max_depth': 3}, {'max_features': 'auto', 'loss': 'ls', 'learning_rate': 0.01, 'n_estimators': 1500, 'max_depth': 3}, {'max_features': 'auto', 'loss': 'lad', 'learning_rate': 0.01, 'n_estimators': 200, 'max_depth': 1}, {'max_features': 'auto', 'loss': 'lad', 'learning_rate': 0.01, 'n_estimators': 300, 'max_depth': 1}, {'max_features': 'auto', 'loss': 'lad', 'learning_rate': 0.01, 'n_estimators': 400, 'max_depth': 1}, {'max_features': 'auto', 'loss': 'lad', 'learning_rate': 0.01, 'n_estimators': 500, 'max_depth': 1}, {'max_features': 'auto', 'loss': 'lad', 'learning_rate': 0.01, 'n_estimators': 1000, 'max_depth': 1}, {'max_features': 'auto', 'loss': 'lad', 'learning_rate': 0.01, 'n_estimators': 1500, 'max_depth': 1}, {'max_features': 'auto', 'loss': 'lad', 'learning_rate': 0.01, 'n_estimators': 200, 'max_depth': 2}, {'max_features': 'auto', 'loss': 'lad', 'learning_rate': 0.01, 'n_estimators': 300, 'max_depth': 2}, {'max_features': 'auto', 'loss': 'lad', 'learning_rate': 0.01, 'n_estimators': 400, 'max_depth': 2}, {'max_features': 'auto', 'loss': 'lad', 'learning_rate': 0.01, 'n_estimators': 500, 'max_depth': 2}, {'max_features': 'auto', 'loss': 'lad', 'learning_rate': 0.01, 'n_estimators': 1000, 'max_depth': 2}, {'max_features': 'auto', 'loss': 'lad', 'learning_rate': 0.01, 'n_estimators': 1500, 'max_depth': 2}, {'max_features': 'auto', 'loss': 'lad', 'learning_rate': 0.01, 'n_estimators': 200, 'max_depth': 3}, {'max_features': 'auto', 'loss': 'lad', 'learning_rate': 0.01, 'n_estimators': 300, 'max_depth': 3}, {'max_features': 'auto', 'loss': 'lad', 'learning_rate': 0.01, 'n_estimators': 400, 'max_depth': 3}, {'max_features': 'auto', 'loss': 'lad', 'learning_rate': 0.01, 'n_estimators': 500, 'max_depth': 3}, {'max_features': 'auto', 'loss': 'lad', 'learning_rate': 0.01, 'n_estimators': 1000, 'max_depth': 3}, {'max_features': 'auto', 'loss': 'lad', 'learning_rate': 0.01, 'n_estimators': 1500, 'max_depth': 3}, {'max_features': 'auto', 'loss': 'huber', 'learning_rate': 0.01, 'n_estimators': 200, 'max_depth': 1}, {'max_features': 'auto', 'loss': 'huber', 'learning_rate': 0.01, 'n_estimators': 300, 'max_depth': 1}, {'max_features': 'auto', 'loss': 'huber', 'learning_rate': 0.01, 'n_estimators': 400, 'max_depth': 1}, {'max_features': 'auto', 'loss': 'huber', 'learning_rate': 0.01, 'n_estimators': 500, 'max_depth': 1}, {'max_features': 'auto', 'loss': 'huber', 'learning_rate': 0.01, 'n_estimators': 1000, 'max_depth': 1}, {'max_features': 'auto', 'loss': 'huber', 'learning_rate': 0.01, 'n_estimators': 1500, 'max_depth': 1}, {'max_features': 'auto', 'loss': 'huber', 'learning_rate': 0.01, 'n_estimators': 200, 'max_depth': 2}, {'max_features': 'auto', 'loss': 'huber', 'learning_rate': 0.01, 'n_estimators': 300, 'max_depth': 2}, {'max_features': 'auto', 'loss': 'huber', 'learning_rate': 0.01, 'n_estimators': 400, 'max_depth': 2}, {'max_features': 'auto', 'loss': 'huber', 'learning_rate': 0.01, 'n_estimators': 500, 'max_depth': 2}, {'max_features': 'auto', 'loss': 'huber', 'learning_rate': 0.01, 'n_estimators': 1000, 'max_depth': 2}, {'max_features': 'auto', 'loss': 'huber', 'learning_rate': 0.01, 'n_estimators': 1500, 'max_depth': 2}, {'max_features': 'auto', 'loss': 'huber', 'learning_rate': 0.01, 'n_estimators': 200, 'max_depth': 3}, {'max_features': 'auto', 'loss': 'huber', 'learning_rate': 0.01, 'n_estimators': 300, 'max_depth': 3}, {'max_features': 'auto', 'loss': 'huber', 'learning_rate': 0.01, 'n_estimators': 400, 'max_depth': 3}, {'max_features': 'auto', 'loss': 'huber', 'learning_rate': 0.01, 'n_estimators': 500, 'max_depth': 3}, {'max_features': 'auto', 'loss': 'huber', 'learning_rate': 0.01, 'n_estimators': 1000, 'max_depth': 3}, {'max_features': 'auto', 'loss': 'huber', 'learning_rate': 0.01, 'n_estimators': 1500, 'max_depth': 3}, {'max_features': 'auto', 'loss': 'ls', 'learning_rate': 0.1, 'n_estimators': 200, 'max_depth': 1}, {'max_features': 'auto', 'loss': 'ls', 'learning_rate': 0.1, 'n_estimators': 300, 'max_depth': 1}, {'max_features': 'auto', 'loss': 'ls', 'learning_rate': 0.1, 'n_estimators': 400, 'max_depth': 1}, {'max_features': 'auto', 'loss': 'ls', 'learning_rate': 0.1, 'n_estimators': 500, 'max_depth': 1}, {'max_features': 'auto', 'loss': 'ls', 'learning_rate': 0.1, 'n_estimators': 1000, 'max_depth': 1}, {'max_features': 'auto', 'loss': 'ls', 'learning_rate': 0.1, 'n_estimators': 1500, 'max_depth': 1}, {'max_features': 'auto', 'loss': 'ls', 'learning_rate': 0.1, 'n_estimators': 200, 'max_depth': 2}, {'max_features': 'auto', 'loss': 'ls', 'learning_rate': 0.1, 'n_estimators': 300, 'max_depth': 2}, {'max_features': 'auto', 'loss': 'ls', 'learning_rate': 0.1, 'n_estimators': 400, 'max_depth': 2}, {'max_features': 'auto', 'loss': 'ls', 'learning_rate': 0.1, 'n_estimators': 500, 'max_depth': 2}, {'max_features': 'auto', 'loss': 'ls', 'learning_rate': 0.1, 'n_estimators': 1000, 'max_depth': 2}, {'max_features': 'auto', 'loss': 'ls', 'learning_rate': 0.1, 'n_estimators': 1500, 'max_depth': 2}, {'max_features': 'auto', 'loss': 'ls', 'learning_rate': 0.1, 'n_estimators': 200, 'max_depth': 3}, {'max_features': 'auto', 'loss': 'ls', 'learning_rate': 0.1, 'n_estimators': 300, 'max_depth': 3}, {'max_features': 'auto', 'loss': 'ls', 'learning_rate': 0.1, 'n_estimators': 400, 'max_depth': 3}, {'max_features': 'auto', 'loss': 'ls', 'learning_rate': 0.1, 'n_estimators': 500, 'max_depth': 3}, {'max_features': 'auto', 'loss': 'ls', 'learning_rate': 0.1, 'n_estimators': 1000, 'max_depth': 3}, {'max_features': 'auto', 'loss': 'ls', 'learning_rate': 0.1, 'n_estimators': 1500, 'max_depth': 3}, {'max_features': 'auto', 'loss': 'lad', 'learning_rate': 0.1, 'n_estimators': 200, 'max_depth': 1}, {'max_features': 'auto', 'loss': 'lad', 'learning_rate': 0.1, 'n_estimators': 300, 'max_depth': 1}, {'max_features': 'auto', 'loss': 'lad', 'learning_rate': 0.1, 'n_estimators': 400, 'max_depth': 1}, {'max_features': 'auto', 'loss': 'lad', 'learning_rate': 0.1, 'n_estimators': 500, 'max_depth': 1}, {'max_features': 'auto', 'loss': 'lad', 'learning_rate': 0.1, 'n_estimators': 1000, 'max_depth': 1}, {'max_features': 'auto', 'loss': 'lad', 'learning_rate': 0.1, 'n_estimators': 1500, 'max_depth': 1}, {'max_features': 'auto', 'loss': 'lad', 'learning_rate': 0.1, 'n_estimators': 200, 'max_depth': 2}, {'max_features': 'auto', 'loss': 'lad', 'learning_rate': 0.1, 'n_estimators': 300, 'max_depth': 2}, {'max_features': 'auto', 'loss': 'lad', 'learning_rate': 0.1, 'n_estimators': 400, 'max_depth': 2}, {'max_features': 'auto', 'loss': 'lad', 'learning_rate': 0.1, 'n_estimators': 500, 'max_depth': 2}, {'max_features': 'auto', 'loss': 'lad', 'learning_rate': 0.1, 'n_estimators': 1000, 'max_depth': 2}, {'max_features': 'auto', 'loss': 'lad', 'learning_rate': 0.1, 'n_estimators': 1500, 'max_depth': 2}, {'max_features': 'auto', 'loss': 'lad', 'learning_rate': 0.1, 'n_estimators': 200, 'max_depth': 3}, {'max_features': 'auto', 'loss': 'lad', 'learning_rate': 0.1, 'n_estimators': 300, 'max_depth': 3}, {'max_features': 'auto', 'loss': 'lad', 'learning_rate': 0.1, 'n_estimators': 400, 'max_depth': 3}, {'max_features': 'auto', 'loss': 'lad', 'learning_rate': 0.1, 'n_estimators': 500, 'max_depth': 3}, {'max_features': 'auto', 'loss': 'lad', 'learning_rate': 0.1, 'n_estimators': 1000, 'max_depth': 3}, {'max_features': 'auto', 'loss': 'lad', 'learning_rate': 0.1, 'n_estimators': 1500, 'max_depth': 3}, {'max_features': 'auto', 'loss': 'huber', 'learning_rate': 0.1, 'n_estimators': 200, 'max_depth': 1}, {'max_features': 'auto', 'loss': 'huber', 'learning_rate': 0.1, 'n_estimators': 300, 'max_depth': 1}, {'max_features': 'auto', 'loss': 'huber', 'learning_rate': 0.1, 'n_estimators': 400, 'max_depth': 1}, {'max_features': 'auto', 'loss': 'huber', 'learning_rate': 0.1, 'n_estimators': 500, 'max_depth': 1}, {'max_features': 'auto', 'loss': 'huber', 'learning_rate': 0.1, 'n_estimators': 1000, 'max_depth': 1}, {'max_features': 'auto', 'loss': 'huber', 'learning_rate': 0.1, 'n_estimators': 1500, 'max_depth': 1}, {'max_features': 'auto', 'loss': 'huber', 'learning_rate': 0.1, 'n_estimators': 200, 'max_depth': 2}, {'max_features': 'auto', 'loss': 'huber', 'learning_rate': 0.1, 'n_estimators': 300, 'max_depth': 2}, {'max_features': 'auto', 'loss': 'huber', 'learning_rate': 0.1, 'n_estimators': 400, 'max_depth': 2}, {'max_features': 'auto', 'loss': 'huber', 'learning_rate': 0.1, 'n_estimators': 500, 'max_depth': 2}, {'max_features': 'auto', 'loss': 'huber', 'learning_rate': 0.1, 'n_estimators': 1000, 'max_depth': 2}, {'max_features': 'auto', 'loss': 'huber', 'learning_rate': 0.1, 'n_estimators': 1500, 'max_depth': 2}, {'max_features': 'auto', 'loss': 'huber', 'learning_rate': 0.1, 'n_estimators': 200, 'max_depth': 3}, {'max_features': 'auto', 'loss': 'huber', 'learning_rate': 0.1, 'n_estimators': 300, 'max_depth': 3}, {'max_features': 'auto', 'loss': 'huber', 'learning_rate': 0.1, 'n_estimators': 400, 'max_depth': 3}, {'max_features': 'auto', 'loss': 'huber', 'learning_rate': 0.1, 'n_estimators': 500, 'max_depth': 3}, {'max_features': 'auto', 'loss': 'huber', 'learning_rate': 0.1, 'n_estimators': 1000, 'max_depth': 3}, {'max_features': 'auto', 'loss': 'huber', 'learning_rate': 0.1, 'n_estimators': 1500, 'max_depth': 3})\n"
     ]
    }
   ],
   "source": [
    "##build ensemble model\n",
    "ensemble = GBR()\n",
    "##GradientBoostingRegressor\n",
    "est = [200,300,400, 500, 1000, 1500]\n",
    "md = [1,2,3]\n",
    "lr = [.001,.01, .1]\n",
    "start = time.time()\n",
    "gbr_params = {\"n_estimators\": est,\n",
    "             \"max_features\": [\"auto\"],\n",
    "             \"max_depth\": md,\n",
    "             \"learning_rate\": lr,\n",
    "             \"loss\": [\"ls\", \"lad\", \"huber\"]}\n",
    "gs3 = GridSearchCV(ensemble, gbr_params, scoring = simple_rmse)\n",
    "gs3.fit(train_x,train_y)\n",
    "end = time.time()\n",
    "print end-start\n",
    "print gs3.best_estimator_\n",
    "print gs3.best_score_\n",
    "print gs3.best_params_\n",
    "\n",
    "# f, axarr = plt.subplots(len(lr))\n",
    "# for b,val2 in enumerate(lr):\n",
    "#     for a,val in enumerate(md):\n",
    "#         axarr[b].plot(est,-gs3.cv_results_['mean_test_score'][(len(est)*a)+(len(est)*len(md))*b:(len(est)*(a+1))+(len(est)*len(md))*b], label=val)\n",
    "#         axarr[b].legend()\n",
    "#         axarr[b].set_ylim((0.1,.4))\n",
    "        \n",
    "# f.set_figheight(5 * len(lr))\n",
    "# f.set_figwidth(5)\n",
    "# f.show;"
   ]
  },
  {
   "cell_type": "code",
   "execution_count": 183,
   "metadata": {
    "collapsed": false
   },
   "outputs": [],
   "source": [
    "# ##best version\n",
    "# ls_gbr_best = GBR(n_estimators =gs3.best_params_['n_estimators'],max_features =gs3.best_params_['max_features'], max_depth =gs3.best_params_['max_depth'], learning_rate =gs3.best_params_['learning_rate'], loss=gs3.best_params_['loss'])\n",
    "# plot_it(ls_gbr_best)"
   ]
  },
  {
   "cell_type": "code",
   "execution_count": 184,
   "metadata": {
    "collapsed": false
   },
   "outputs": [
    {
     "name": "stdout",
     "output_type": "stream",
     "text": [
      "288.59100008\n",
      "GradientBoostingRegressor(alpha=0.9, criterion='friedman_mse', init=None,\n",
      "             learning_rate=0.1, loss='lad', max_depth=3,\n",
      "             max_features='auto', max_leaf_nodes=None,\n",
      "             min_impurity_split=1e-07, min_samples_leaf=1,\n",
      "             min_samples_split=2, min_weight_fraction_leaf=0.0,\n",
      "             n_estimators=1000, presort='auto', random_state=None,\n",
      "             subsample=1.0, verbose=0, warm_start=False)\n",
      "-0.126385604469\n",
      "{'max_features': 'auto', 'loss': 'lad', 'learning_rate': 0.1, 'n_estimators': 1000, 'max_depth': 3}\n"
     ]
    }
   ],
   "source": [
    "##build ensemble model\n",
    "ensemble = GBR()\n",
    "##GradientBoostingRegressor\n",
    "est = [200,300,400, 500, 1000, 1500]\n",
    "md = [1,2,3]\n",
    "lr = [.001,.01, .1]\n",
    "start = time.time()\n",
    "gbr_params = {\"n_estimators\": est,\n",
    "             \"max_features\": [\"auto\"],\n",
    "             \"max_depth\": md,\n",
    "             \"learning_rate\": lr,\n",
    "             \"loss\": [\"ls\", \"lad\", \"huber\"]}\n",
    "gs3b = GridSearchCV(ensemble, gbr_params, scoring = simple_rmse)\n",
    "gs3b.fit(comb,train_y)\n",
    "end = time.time()\n",
    "print end-start\n",
    "print gs3b.best_estimator_\n",
    "print gs3b.best_score_\n",
    "print gs3b.best_params_\n",
    "\n",
    "# f, axarr = plt.subplots(len(lr))\n",
    "# for b,val2 in enumerate(lr):\n",
    "#     for a,val in enumerate(md):\n",
    "#         axarr[b].plot(est,-gs3b.cv_results_['mean_test_score'][(len(est)*a)+(len(est)*len(md))*b:(len(est)*(a+1))+(len(est)*len(md))*b], label=val)\n",
    "#         axarr[b].legend()\n",
    "#         axarr[b].set_ylim((0.1,.4))\n",
    "        \n",
    "# f.set_figheight(5 * len(lr))\n",
    "# f.set_figwidth(5)\n",
    "# f.show;"
   ]
  },
  {
   "cell_type": "code",
   "execution_count": 185,
   "metadata": {
    "collapsed": false
   },
   "outputs": [],
   "source": [
    "# ##best version\n",
    "# ls_gbr_best2 = GBR(n_estimators =gs3b.best_params_['n_estimators'],max_features =gs3b.best_params_['max_features'], max_depth =gs3b.best_params_['max_depth'], learning_rate =gs3b.best_params_['learning_rate'], loss=gs3b.best_params_['loss'])\n",
    "# plot_it(ls_gbr_best2)"
   ]
  },
  {
   "cell_type": "code",
   "execution_count": 186,
   "metadata": {
    "collapsed": false
   },
   "outputs": [
    {
     "name": "stdout",
     "output_type": "stream",
     "text": [
      "922.582000017\n",
      "GradientBoostingRegressor(alpha=0.9, criterion='friedman_mse', init=None,\n",
      "             learning_rate=0.1, loss='lad', max_depth=3,\n",
      "             max_features='auto', max_leaf_nodes=None,\n",
      "             min_impurity_split=1e-07, min_samples_leaf=1,\n",
      "             min_samples_split=2, min_weight_fraction_leaf=0.0,\n",
      "             n_estimators=1000, presort='auto', random_state=None,\n",
      "             subsample=1.0, verbose=0, warm_start=False)\n",
      "-0.125942304193\n",
      "{'max_features': 'auto', 'loss': 'lad', 'learning_rate': 0.1, 'n_estimators': 1000, 'max_depth': 3}\n"
     ]
    }
   ],
   "source": [
    "##build ensemble model\n",
    "ensemble = GBR()\n",
    "##GradientBoostingRegressor\n",
    "est = [200,300,400, 500, 1000, 1500]\n",
    "md = [1,2,3]\n",
    "lr = [.001,.01, .1]\n",
    "start = time.time()\n",
    "gbr_params = {\"n_estimators\": est,\n",
    "             \"max_features\": [\"auto\"],\n",
    "             \"max_depth\": md,\n",
    "             \"learning_rate\": lr,\n",
    "             \"loss\": [\"ls\", \"lad\", \"huber\"]}\n",
    "gs3c = GridSearchCV(ensemble, gbr_params, scoring = simple_rmse)\n",
    "gs3c.fit(comb2,train_y)\n",
    "end = time.time()\n",
    "print end-start\n",
    "print gs3.best_estimator_\n",
    "print gs3.best_score_\n",
    "print gs3.best_params_\n",
    "\n",
    "\n",
    "# f, axarr = plt.subplots(len(lr))\n",
    "# for b,val2 in enumerate(lr):\n",
    "#     for a,val in enumerate(md):\n",
    "#         axarr[b].plot(est,-gs3.cv_results_['mean_test_score'][(len(est)*a)+(len(est)*len(md))*b:(len(est)*(a+1))+(len(est)*len(md))*b], label=val)\n",
    "#         axarr[b].legend()\n",
    "#         axarr[b].set_ylim((0.1,.4))\n",
    "        \n",
    "# f.set_figheight(5 * len(lr))\n",
    "# f.set_figwidth(5)\n",
    "# f.show;"
   ]
  },
  {
   "cell_type": "code",
   "execution_count": 187,
   "metadata": {
    "collapsed": false
   },
   "outputs": [],
   "source": [
    "# ##best version\n",
    "# ls_gbr_best3 = GBR(n_estimators =gs3c.best_params_['n_estimators'],max_features =gs3c.best_params_['max_features'], max_depth =gs3c.best_params_['max_depth'], learning_rate =gs3c.best_params_['learning_rate'], loss=gs3c.best_params_['loss'])\n",
    "# plot_it(ls_gbr_best3)"
   ]
  },
  {
   "cell_type": "code",
   "execution_count": 190,
   "metadata": {
    "collapsed": false
   },
   "outputs": [],
   "source": [
    "##output results\n",
    "ls_gbr_best.fit(train_x, train_y)\n",
    "ls_gbr_best2.fit(comb, train_y)\n",
    "ls_gbr_best3.fit(comb2, train_y)\n",
    "\n",
    "preds1 = np.exp(ls_gbr_best.predict(test_x))\n",
    "preds2 = np.exp(ls_gbr_best2.predict(comb_test))\n",
    "preds3 = np.exp(ls_gbr_best3.predict(comb2_test))\n",
    "\n",
    "allpreds = {\"PredsOnly\": preds1,\n",
    "           \"PredsPCA\": preds2,\n",
    "           \"PredsTest\": preds3}\n",
    "\n",
    "preds_array = np.array([preds1,preds2,preds3])\n",
    "means = np.mean(preds_array, axis=0)\n",
    "price = {\"SalePrice\": means}\n",
    "preds = pd.DataFrame(data = price)\n",
    "preds2 = pd.DataFrame(data =allpreds)\n",
    "preds.to_csv('data/final_preds.csv')\n",
    "preds2.to_csv('data/final_preds_seperate.csv')"
   ]
  },
  {
   "cell_type": "code",
   "execution_count": null,
   "metadata": {
    "collapsed": true
   },
   "outputs": [],
   "source": []
  }
 ],
 "metadata": {
  "anaconda-cloud": {},
  "kernelspec": {
   "display_name": "Python [default]",
   "language": "python",
   "name": "python2"
  },
  "language_info": {
   "codemirror_mode": {
    "name": "ipython",
    "version": 2
   },
   "file_extension": ".py",
   "mimetype": "text/x-python",
   "name": "python",
   "nbconvert_exporter": "python",
   "pygments_lexer": "ipython2",
   "version": "2.7.12"
  }
 },
 "nbformat": 4,
 "nbformat_minor": 1
}
